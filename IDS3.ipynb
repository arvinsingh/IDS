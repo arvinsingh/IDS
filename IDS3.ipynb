{
  "nbformat": 4,
  "nbformat_minor": 0,
  "metadata": {
    "colab": {
      "name": "IDS3.ipynb",
      "version": "0.3.2",
      "provenance": [],
      "collapsed_sections": [],
      "include_colab_link": true
    },
    "kernelspec": {
      "name": "python3",
      "display_name": "Python 3"
    },
    "accelerator": "GPU"
  },
  "cells": [
    {
      "cell_type": "markdown",
      "metadata": {
        "id": "view-in-github",
        "colab_type": "text"
      },
      "source": [
        "<a href=\"https://colab.research.google.com/github/arvinsingh/IDS/blob/master/IDS3.ipynb\" target=\"_parent\"><img src=\"https://colab.research.google.com/assets/colab-badge.svg\" alt=\"Open In Colab\"/></a>"
      ]
    },
    {
      "cell_type": "code",
      "metadata": {
        "id": "tJDv7Jd6jgRA",
        "colab_type": "code",
        "outputId": "1f3bfb9e-a93b-44fd-c03a-2d2b3918453d",
        "colab": {
          "base_uri": "https://localhost:8080/",
          "height": 124
        }
      },
      "source": [
        "from google.colab import drive\n",
        "drive.mount('/content/drive')"
      ],
      "execution_count": 1,
      "outputs": [
        {
          "output_type": "stream",
          "text": [
            "Go to this URL in a browser: https://accounts.google.com/o/oauth2/auth?client_id=947318989803-6bn6qk8qdgf4n4g3pfee6491hc0brc4i.apps.googleusercontent.com&redirect_uri=urn%3Aietf%3Awg%3Aoauth%3A2.0%3Aoob&scope=email%20https%3A%2F%2Fwww.googleapis.com%2Fauth%2Fdocs.test%20https%3A%2F%2Fwww.googleapis.com%2Fauth%2Fdrive%20https%3A%2F%2Fwww.googleapis.com%2Fauth%2Fdrive.photos.readonly%20https%3A%2F%2Fwww.googleapis.com%2Fauth%2Fpeopleapi.readonly&response_type=code\n",
            "\n",
            "Enter your authorization code:\n",
            "··········\n",
            "Mounted at /content/drive\n"
          ],
          "name": "stdout"
        }
      ]
    },
    {
      "cell_type": "code",
      "metadata": {
        "id": "SvhlNkgWjw-C",
        "colab_type": "code",
        "outputId": "b1c5a5af-bfa6-440e-f3e6-8c6ecb53f84e",
        "colab": {
          "base_uri": "https://localhost:8080/",
          "height": 69
        }
      },
      "source": [
        "!ls drive/My\\ Drive/Notebooks_S/IDS/Notebooks/"
      ],
      "execution_count": 2,
      "outputs": [
        {
          "output_type": "stream",
          "text": [
            "1.jpg\t\t\tDataset      IDS_2.ipynb  title.ipynb\n",
            "2.jpg\t\t\tIDS_0.ipynb  IDS3.ipynb   union_f.pkl\n",
            "cross_validation.ipynb\tIDS_1.ipynb  inter_f.pkl\n"
          ],
          "name": "stdout"
        }
      ]
    },
    {
      "cell_type": "code",
      "metadata": {
        "id": "wxI7MMLmkC6d",
        "colab_type": "code",
        "colab": {}
      },
      "source": [
        "PATH = 'drive/My Drive/Notebooks_S/IDS/Notebooks/'\n"
      ],
      "execution_count": 0,
      "outputs": []
    },
    {
      "cell_type": "markdown",
      "metadata": {
        "id": "NjwCNesgkxKf",
        "colab_type": "text"
      },
      "source": [
        "## SET up!"
      ]
    },
    {
      "cell_type": "code",
      "metadata": {
        "id": "KVbsxl-mlewf",
        "colab_type": "code",
        "colab": {}
      },
      "source": [
        "import numpy as np\n",
        "import pandas as pd\n",
        "import random\n",
        "import matplotlib.pyplot as plt\n",
        "import seaborn as sns\n",
        "\n",
        "###################################\n",
        "import pickle\n",
        "from sklearn import preprocessing\n",
        "from time import time\n",
        "from sklearn.model_selection import train_test_split\n",
        "from sklearn.feature_selection import SelectPercentile, f_classif\n",
        "from sklearn.feature_selection import RFE\n",
        "from sklearn.tree import DecisionTreeClassifier\n",
        "from sklearn.utils import shuffle\n",
        "\n",
        "import xgboost\n",
        "from sklearn.model_selection import cross_val_score\n",
        "from sklearn.metrics import classification_report\n",
        "from sklearn.model_selection import StratifiedKFold\n",
        "from sklearn.naive_bayes import GaussianNB\n",
        "from sklearn.ensemble import RandomForestClassifier, AdaBoostClassifier\n",
        "from sklearn.svm import SVC\n",
        "from sklearn.neural_network import MLPClassifier\n",
        "from sklearn.neighbors import KNeighborsClassifier\n",
        "from sklearn.metrics import confusion_matrix\n",
        "\n",
        "\n",
        "#####################################\n",
        "sns.set_style('whitegrid')\n",
        "\n",
        "font = {'weight' : 'bold',\n",
        "        'size'   : 14}\n",
        "\n",
        "%matplotlib inline\n",
        "#####################################\n",
        "# SET PATH\n"
      ],
      "execution_count": 0,
      "outputs": []
    },
    {
      "cell_type": "code",
      "metadata": {
        "id": "0jMjmpbR9BQv",
        "colab_type": "code",
        "colab": {}
      },
      "source": [
        "def skfold(X, y, model):\n",
        "    skf = StratifiedKFold(n_splits=10)\n",
        "    skf.get_n_splits(X, y)\n",
        "    results = cross_val_score(model, X, y, cv=skf)\n",
        "    return results\n",
        "\n",
        "\n",
        "def mod_stats(dictionary, name):\n",
        "    def print_acc(results,model):\n",
        "        print(\"Accuracy of {} is {} and std is {}\" .format(model ,results.mean()*100, results.std()*100))\n",
        "    for key ,value in dictionary.items():\n",
        "        print_acc(value, key)\n",
        "    results = pd.DataFrame(dictionary).applymap(lambda x: x*100)\n",
        "    print(results)\n",
        "    ax = results.plot(**{'linewidth':1.5, 'linestyle':'-.','marker':'o',\\\n",
        "                     'alpha':.6})\n",
        "    ax.legend(bbox_to_anchor=(0,1.02,1,0.2), loc=\"lower left\",\n",
        "                    mode=\"expand\", borderaxespad=0, ncol=3)\n",
        "    plt.xlabel('n-fold')\n",
        "    plt.ylabel('%accuracy')\n",
        "    #plt.savefig(name + '_visualization/SKF.jpg',dpi=300,format='jpg')\n",
        "    "
      ],
      "execution_count": 0,
      "outputs": []
    },
    {
      "cell_type": "code",
      "metadata": {
        "id": "UdJydwXrkwmR",
        "colab_type": "code",
        "outputId": "2bc1efee-0416-4f4a-92fd-c213fb2efa62",
        "colab": {
          "base_uri": "https://localhost:8080/",
          "height": 52
        }
      },
      "source": [
        "# These are the features which were selected before. \n",
        "# For the ease of understanding the dataset used is in original format. This shows the preprocessing which would be required.\n",
        "with open (PATH+'inter_f.pkl','rb') as f:\n",
        "    dos_if,probe_if,r2l_if,u2r_if = pickle.load(f)\n",
        "    \n",
        "with open (PATH+'union_f.pkl','rb') as f:\n",
        "    dos_uf,probe_uf,r2l_uf,u2r_uf = pickle.load(f)\n",
        "    \n",
        "print(len(dos_if), len(probe_if), len(r2l_if), len(u2r_if))\n",
        "\n",
        "print(len(dos_uf), len(probe_uf), len(r2l_uf), len(u2r_uf))"
      ],
      "execution_count": 5,
      "outputs": [
        {
          "output_type": "stream",
          "text": [
            "6 8 8 7\n",
            "20 18 18 19\n"
          ],
          "name": "stdout"
        }
      ]
    },
    {
      "cell_type": "code",
      "metadata": {
        "id": "sajLB0wV1nHr",
        "colab_type": "code",
        "colab": {}
      },
      "source": [
        "f_i = {'dos':dos_if,'probe':probe_if,'r2l':r2l_if,'u2r':u2r_if} # Intersection of features selected by previous methods\n",
        "f_u = {'dos':dos_uf,'probe':probe_uf,'r2l':r2l_uf,'u2r':u2r_uf} # Union of features selected."
      ],
      "execution_count": 0,
      "outputs": []
    },
    {
      "cell_type": "code",
      "metadata": {
        "id": "0EjPwy_A318C",
        "colab_type": "code",
        "colab": {
          "base_uri": "https://localhost:8080/",
          "height": 520
        },
        "outputId": "a70c4077-4250-4245-fe63-cdbe1fde5925"
      },
      "source": [
        "f_i"
      ],
      "execution_count": 20,
      "outputs": [
        {
          "output_type": "execute_result",
          "data": {
            "text/plain": [
              "{'dos': {'count',\n",
              "  'dst_host_serror_rate',\n",
              "  'dst_host_srv_serror_rate',\n",
              "  'flag_SF',\n",
              "  'same_srv_rate',\n",
              "  'serror_rate'},\n",
              " 'probe': {'dst_host_diff_srv_rate',\n",
              "  'dst_host_rerror_rate',\n",
              "  'dst_host_same_src_port_rate',\n",
              "  'dst_host_srv_count',\n",
              "  'dst_host_srv_diff_host_rate',\n",
              "  'dst_host_srv_rerror_rate',\n",
              "  'service_eco_i',\n",
              "  'service_private'},\n",
              " 'r2l': {'dst_bytes',\n",
              "  'dst_host_same_src_port_rate',\n",
              "  'dst_host_srv_count',\n",
              "  'dst_host_srv_diff_host_rate',\n",
              "  'hot',\n",
              "  'num_failed_logins',\n",
              "  'service_ftp_data',\n",
              "  'src_bytes'},\n",
              " 'u2r': {'dst_host_count',\n",
              "  'dst_host_srv_count',\n",
              "  'dst_host_srv_diff_host_rate',\n",
              "  'hot',\n",
              "  'num_file_creations',\n",
              "  'root_shell',\n",
              "  'service_ftp_data'}}"
            ]
          },
          "metadata": {
            "tags": []
          },
          "execution_count": 20
        }
      ]
    },
    {
      "cell_type": "code",
      "metadata": {
        "id": "5mmP1FS9mPdA",
        "colab_type": "code",
        "colab": {}
      },
      "source": [
        "# Using Raw dataset \n",
        "\n",
        "dos_train = pd.read_csv(PATH+'Dataset/NSL-KDD/dos_df_train.csv').sample(frac=1).reset_index(drop=True)\n",
        "dos_test = pd.read_csv(PATH+'Dataset/NSL-KDD/dos_df_test.csv').sample(frac=1).reset_index(drop=True)\n",
        "\n",
        "probe_train = pd.read_csv(PATH+'Dataset/NSL-KDD/probe_df_train.csv').sample(frac=1).reset_index(drop=True)\n",
        "probe_test = pd.read_csv(PATH+'Dataset/NSL-KDD/probe_df_test.csv').sample(frac=1).reset_index(drop=True)\n",
        "\n",
        "r2l_train = pd.read_csv(PATH+'Dataset/NSL-KDD/r2l_df_train.csv').sample(frac=1).reset_index(drop=True)\n",
        "r2l_test = pd.read_csv(PATH+'Dataset/NSL-KDD/r2l_df_test.csv').sample(frac=1).reset_index(drop=True)\n",
        "\n",
        "u2r_train = pd.read_csv(PATH+'Dataset/NSL-KDD/u2r_df_train.csv').sample(frac=1).reset_index(drop=True)\n",
        "u2r_test = pd.read_csv(PATH+'Dataset/NSL-KDD/u2r_df_test.csv').sample(frac=1).reset_index(drop=True)\n"
      ],
      "execution_count": 0,
      "outputs": []
    },
    {
      "cell_type": "code",
      "metadata": {
        "id": "mi87F-SBn_Oh",
        "colab_type": "code",
        "outputId": "b26bab64-7095-48dc-c24b-288b02742323",
        "colab": {
          "base_uri": "https://localhost:8080/",
          "height": 35
        }
      },
      "source": [
        "print(dos_test.shape)"
      ],
      "execution_count": 69,
      "outputs": [
        {
          "output_type": "stream",
          "text": [
            "(17171, 123)\n"
          ],
          "name": "stdout"
        }
      ]
    },
    {
      "cell_type": "code",
      "metadata": {
        "id": "SahQclSopLAj",
        "colab_type": "code",
        "outputId": "4f5e6987-4d40-4bdd-dcd1-5bd7c022d54a",
        "colab": {
          "base_uri": "https://localhost:8080/",
          "height": 208
        }
      },
      "source": [
        "dos_train['label'][:10] # Shuffled."
      ],
      "execution_count": 70,
      "outputs": [
        {
          "output_type": "execute_result",
          "data": {
            "text/plain": [
              "0    1\n",
              "1    1\n",
              "2    1\n",
              "3    1\n",
              "4    1\n",
              "5    1\n",
              "6    1\n",
              "7    0\n",
              "8    0\n",
              "9    0\n",
              "Name: label, dtype: int64"
            ]
          },
          "metadata": {
            "tags": []
          },
          "execution_count": 70
        }
      ]
    },
    {
      "cell_type": "code",
      "metadata": {
        "id": "JhpWTMT9pWb_",
        "colab_type": "code",
        "outputId": "01ce009a-80b6-466e-ede3-4f6874dbcc6a",
        "colab": {
          "base_uri": "https://localhost:8080/",
          "height": 69
        }
      },
      "source": [
        "u2r_test['label'].value_counts()"
      ],
      "execution_count": 71,
      "outputs": [
        {
          "output_type": "execute_result",
          "data": {
            "text/plain": [
              "0    9711\n",
              "4      67\n",
              "Name: label, dtype: int64"
            ]
          },
          "metadata": {
            "tags": []
          },
          "execution_count": 71
        }
      ]
    },
    {
      "cell_type": "code",
      "metadata": {
        "id": "uqEJAbWvqfln",
        "colab_type": "code",
        "outputId": "2ff34bdf-c55d-4de9-8a91-f70705fd21ba",
        "colab": {
          "base_uri": "https://localhost:8080/",
          "height": 208
        }
      },
      "source": [
        "print('Train:')\n",
        "print('Dimensions of DoS:' ,dos_train.shape)\n",
        "print('Dimensions of Probe:' ,probe_train.shape)\n",
        "print('Dimensions of R2L:' ,r2l_train.shape)\n",
        "print('Dimensions of U2R:' ,u2r_train.shape)\n",
        "print('--.'*20)\n",
        "print('Test:')\n",
        "print('Dimensions of DoS:' ,dos_test.shape)\n",
        "print('Dimensions of Probe:' ,probe_test.shape)\n",
        "print('Dimensions of R2L:' ,r2l_test.shape)\n",
        "print('Dimensions of U2R:' ,u2r_test.shape)"
      ],
      "execution_count": 72,
      "outputs": [
        {
          "output_type": "stream",
          "text": [
            "Train:\n",
            "Dimensions of DoS: (113270, 123)\n",
            "Dimensions of Probe: (78999, 123)\n",
            "Dimensions of R2L: (68338, 123)\n",
            "Dimensions of U2R: (67395, 123)\n",
            "--.--.--.--.--.--.--.--.--.--.--.--.--.--.--.--.--.--.--.--.\n",
            "Test:\n",
            "Dimensions of DoS: (17171, 123)\n",
            "Dimensions of Probe: (12132, 123)\n",
            "Dimensions of R2L: (12596, 123)\n",
            "Dimensions of U2R: (9778, 123)\n"
          ],
          "name": "stdout"
        }
      ]
    },
    {
      "cell_type": "markdown",
      "metadata": {
        "id": "fZwhY4rZpiYQ",
        "colab_type": "text"
      },
      "source": [
        "# Scale and slice"
      ]
    },
    {
      "cell_type": "code",
      "metadata": {
        "id": "m8uBAlverYGI",
        "colab_type": "code",
        "colab": {}
      },
      "source": [
        "def get_test_train(d_train,d_test,cols):\n",
        "    X_train = d_train[list(cols)]\n",
        "    y_train = d_train['label']\n",
        "    \n",
        "    X_test = d_test[list(cols)]\n",
        "    y_test = d_test['label']\n",
        "    \n",
        "    scaler = preprocessing.StandardScaler().fit(X_train)\n",
        "    X_train= shuffle(scaler.transform(X_train)\n",
        "    scaler = preprocessing.StandardScaler().fit(X_test)\n",
        "    X_test = scaler.transform(X_test)\n",
        "    return X_train, y_train, X_test, y_test\n",
        "    \n",
        "    \n",
        "    \n",
        "    "
      ],
      "execution_count": 0,
      "outputs": []
    },
    {
      "cell_type": "markdown",
      "metadata": {
        "id": "zxawCu0VBQN-",
        "colab_type": "text"
      },
      "source": [
        "# Results\n"
      ]
    },
    {
      "cell_type": "markdown",
      "metadata": {
        "id": "HLfo7oajBQFY",
        "colab_type": "text"
      },
      "source": [
        "> ## DOS"
      ]
    },
    {
      "cell_type": "code",
      "metadata": {
        "id": "YdU7aSh3ph1I",
        "colab_type": "code",
        "colab": {
          "base_uri": "https://localhost:8080/",
          "height": 104
        },
        "outputId": "1786a008-a595-40e4-e408-b3771d01f817"
      },
      "source": [
        "X_train, y_train, X_test, y_test = get_test_train(dos_train, dos_test, dos_uf )\n",
        "print('Train Size:\\n  {}\\n Test Size:\\n  {}\\n'.format(X_train.shape, X_test.shape))"
      ],
      "execution_count": 82,
      "outputs": [
        {
          "output_type": "stream",
          "text": [
            "Train Size:\n",
            "  (113270, 20)\n",
            " Test Size:\n",
            "  (17171, 20)\n",
            "\n"
          ],
          "name": "stdout"
        }
      ]
    },
    {
      "cell_type": "code",
      "metadata": {
        "id": "fTpnzMHU7Yod",
        "colab_type": "code",
        "colab": {
          "base_uri": "https://localhost:8080/",
          "height": 141
        },
        "outputId": "cd1c118f-e5c1-4f16-edf0-df3dcbe883a9"
      },
      "source": [
        "clf_DoS=DecisionTreeClassifier(random_state=101)\n",
        "clf_DoS.fit(X_train, y_train)\n",
        "y_pred=clf_DoS.predict(X_test)\n",
        "# Create confusion matrix\n",
        "pd.crosstab(y_test, y_pred, rownames=['Actual attacks'], colnames=['Predicted attacks'])"
      ],
      "execution_count": 114,
      "outputs": [
        {
          "output_type": "execute_result",
          "data": {
            "text/html": [
              "<div>\n",
              "<style scoped>\n",
              "    .dataframe tbody tr th:only-of-type {\n",
              "        vertical-align: middle;\n",
              "    }\n",
              "\n",
              "    .dataframe tbody tr th {\n",
              "        vertical-align: top;\n",
              "    }\n",
              "\n",
              "    .dataframe thead th {\n",
              "        text-align: right;\n",
              "    }\n",
              "</style>\n",
              "<table border=\"1\" class=\"dataframe\">\n",
              "  <thead>\n",
              "    <tr style=\"text-align: right;\">\n",
              "      <th>Predicted attacks</th>\n",
              "      <th>0</th>\n",
              "      <th>1</th>\n",
              "    </tr>\n",
              "    <tr>\n",
              "      <th>Actual attacks</th>\n",
              "      <th></th>\n",
              "      <th></th>\n",
              "    </tr>\n",
              "  </thead>\n",
              "  <tbody>\n",
              "    <tr>\n",
              "      <th>0</th>\n",
              "      <td>9078</td>\n",
              "      <td>633</td>\n",
              "    </tr>\n",
              "    <tr>\n",
              "      <th>1</th>\n",
              "      <td>1883</td>\n",
              "      <td>5577</td>\n",
              "    </tr>\n",
              "  </tbody>\n",
              "</table>\n",
              "</div>"
            ],
            "text/plain": [
              "Predicted attacks     0     1\n",
              "Actual attacks               \n",
              "0                  9078   633\n",
              "1                  1883  5577"
            ]
          },
          "metadata": {
            "tags": []
          },
          "execution_count": 114
        }
      ]
    },
    {
      "cell_type": "code",
      "metadata": {
        "id": "eIiLf05ICN-y",
        "colab_type": "code",
        "colab": {
          "base_uri": "https://localhost:8080/",
          "height": 173
        },
        "outputId": "a7530665-7d05-4541-f686-5d763c9102fe"
      },
      "source": [
        "print(classification_report(y_test, y_pred))"
      ],
      "execution_count": 115,
      "outputs": [
        {
          "output_type": "stream",
          "text": [
            "              precision    recall  f1-score   support\n",
            "\n",
            "           0       0.83      0.93      0.88      9711\n",
            "           1       0.90      0.75      0.82      7460\n",
            "\n",
            "    accuracy                           0.85     17171\n",
            "   macro avg       0.86      0.84      0.85     17171\n",
            "weighted avg       0.86      0.85      0.85     17171\n",
            "\n"
          ],
          "name": "stdout"
        }
      ]
    },
    {
      "cell_type": "code",
      "metadata": {
        "id": "dQXVkad5EW6s",
        "colab_type": "code",
        "colab": {
          "base_uri": "https://localhost:8080/",
          "height": 52
        },
        "outputId": "ca0fe061-bfc7-44a4-9b95-f3d501cf5d26"
      },
      "source": [
        "confusion_matrix(y_test, y_pred)"
      ],
      "execution_count": 116,
      "outputs": [
        {
          "output_type": "execute_result",
          "data": {
            "text/plain": [
              "array([[9078,  633],\n",
              "       [1883, 5577]])"
            ]
          },
          "metadata": {
            "tags": []
          },
          "execution_count": 116
        }
      ]
    },
    {
      "cell_type": "code",
      "metadata": {
        "id": "b_-Bi3GoFAL6",
        "colab_type": "code",
        "colab": {
          "base_uri": "https://localhost:8080/",
          "height": 765
        },
        "outputId": "bc17d9c1-370b-4e78-99b3-fca0f5d009bd"
      },
      "source": [
        "dos_X, dos_Y = X_test, y_test\n",
        "t0 = time()\n",
        "print(\"Initiating Build #1!\")\n",
        "print(\"1%..\", end =\"\")\n",
        "d_xgb = skfold(dos_X, dos_Y, xgboost.XGBClassifier())\n",
        "print(\"15%..\", end =\"\")\n",
        "d_gnb = skfold(dos_X, dos_Y, GaussianNB())\n",
        "print(\"30%..\", end =\"\")\n",
        "d_rf = skfold(dos_X, dos_Y, RandomForestClassifier())\n",
        "print(\"45%..\", end =\"\")\n",
        "#d_svc = skfold(dos_X, dos_Y, SVC())\n",
        "print(\"60%..\", end =\"\")\n",
        "d_ada = skfold(dos_X, dos_Y, AdaBoostClassifier())\n",
        "print(\"75%..\", end =\"\")\n",
        "d_knn = skfold(dos_X, dos_Y, KNeighborsClassifier())\n",
        "print(\"90%..\", end =\"\")\n",
        "d_MLPc = skfold(dos_X, dos_Y, MLPClassifier())\n",
        "print(\"100%!\")\n",
        "print(\"Time taken {} seconds\\n\".format(time() - t0))\n",
        "d_dic = {'XGB': d_xgb, 'RandomForest': d_rf, # 'SVC': d_svc,\n",
        "         'GaussianNB': d_gnb, 'adaBoost': d_ada, 'KNN': d_knn, 'MLPc': d_MLPc}\n",
        "d_dic"
      ],
      "execution_count": 119,
      "outputs": [
        {
          "output_type": "stream",
          "text": [
            "Initiating Build #1!\n",
            "1%..15%..30%.."
          ],
          "name": "stdout"
        },
        {
          "output_type": "stream",
          "text": [
            "/usr/local/lib/python3.6/dist-packages/sklearn/ensemble/forest.py:245: FutureWarning: The default value of n_estimators will change from 10 in version 0.20 to 100 in 0.22.\n",
            "  \"10 in version 0.20 to 100 in 0.22.\", FutureWarning)\n",
            "/usr/local/lib/python3.6/dist-packages/sklearn/ensemble/forest.py:245: FutureWarning: The default value of n_estimators will change from 10 in version 0.20 to 100 in 0.22.\n",
            "  \"10 in version 0.20 to 100 in 0.22.\", FutureWarning)\n",
            "/usr/local/lib/python3.6/dist-packages/sklearn/ensemble/forest.py:245: FutureWarning: The default value of n_estimators will change from 10 in version 0.20 to 100 in 0.22.\n",
            "  \"10 in version 0.20 to 100 in 0.22.\", FutureWarning)\n",
            "/usr/local/lib/python3.6/dist-packages/sklearn/ensemble/forest.py:245: FutureWarning: The default value of n_estimators will change from 10 in version 0.20 to 100 in 0.22.\n",
            "  \"10 in version 0.20 to 100 in 0.22.\", FutureWarning)\n",
            "/usr/local/lib/python3.6/dist-packages/sklearn/ensemble/forest.py:245: FutureWarning: The default value of n_estimators will change from 10 in version 0.20 to 100 in 0.22.\n",
            "  \"10 in version 0.20 to 100 in 0.22.\", FutureWarning)\n",
            "/usr/local/lib/python3.6/dist-packages/sklearn/ensemble/forest.py:245: FutureWarning: The default value of n_estimators will change from 10 in version 0.20 to 100 in 0.22.\n",
            "  \"10 in version 0.20 to 100 in 0.22.\", FutureWarning)\n",
            "/usr/local/lib/python3.6/dist-packages/sklearn/ensemble/forest.py:245: FutureWarning: The default value of n_estimators will change from 10 in version 0.20 to 100 in 0.22.\n",
            "  \"10 in version 0.20 to 100 in 0.22.\", FutureWarning)\n",
            "/usr/local/lib/python3.6/dist-packages/sklearn/ensemble/forest.py:245: FutureWarning: The default value of n_estimators will change from 10 in version 0.20 to 100 in 0.22.\n",
            "  \"10 in version 0.20 to 100 in 0.22.\", FutureWarning)\n",
            "/usr/local/lib/python3.6/dist-packages/sklearn/ensemble/forest.py:245: FutureWarning: The default value of n_estimators will change from 10 in version 0.20 to 100 in 0.22.\n",
            "  \"10 in version 0.20 to 100 in 0.22.\", FutureWarning)\n",
            "/usr/local/lib/python3.6/dist-packages/sklearn/ensemble/forest.py:245: FutureWarning: The default value of n_estimators will change from 10 in version 0.20 to 100 in 0.22.\n",
            "  \"10 in version 0.20 to 100 in 0.22.\", FutureWarning)\n"
          ],
          "name": "stderr"
        },
        {
          "output_type": "stream",
          "text": [
            "45%..60%..75%..90%.."
          ],
          "name": "stdout"
        },
        {
          "output_type": "stream",
          "text": [
            "/usr/local/lib/python3.6/dist-packages/sklearn/neural_network/multilayer_perceptron.py:566: ConvergenceWarning: Stochastic Optimizer: Maximum iterations (200) reached and the optimization hasn't converged yet.\n",
            "  % self.max_iter, ConvergenceWarning)\n",
            "/usr/local/lib/python3.6/dist-packages/sklearn/neural_network/multilayer_perceptron.py:566: ConvergenceWarning: Stochastic Optimizer: Maximum iterations (200) reached and the optimization hasn't converged yet.\n",
            "  % self.max_iter, ConvergenceWarning)\n",
            "/usr/local/lib/python3.6/dist-packages/sklearn/neural_network/multilayer_perceptron.py:566: ConvergenceWarning: Stochastic Optimizer: Maximum iterations (200) reached and the optimization hasn't converged yet.\n",
            "  % self.max_iter, ConvergenceWarning)\n"
          ],
          "name": "stderr"
        },
        {
          "output_type": "stream",
          "text": [
            "100%!\n",
            "Time taken 170.6457462310791 seconds\n",
            "\n"
          ],
          "name": "stdout"
        },
        {
          "output_type": "execute_result",
          "data": {
            "text/plain": [
              "{'GaussianNB': array([0.90628638, 0.91846243, 0.91205591, 0.90157251, 0.90564939,\n",
              "        0.91089109, 0.90157251, 0.91089109, 0.89691322, 0.90564939]),\n",
              " 'KNN': array([0.9895227 , 0.99126383, 0.99068142, 0.99242865, 0.99009901,\n",
              "        0.9895166 , 0.98602213, 0.98718695, 0.98660454, 0.99126383]),\n",
              " 'MLPc': array([0.99068685, 0.98835178, 0.9895166 , 0.99242865, 0.98835178,\n",
              "        0.99184624, 0.99184624, 0.9895166 , 0.98660454, 0.99126383]),\n",
              " 'RandomForest': array([0.99767171, 0.99883518, 0.99825277, 0.99825277, 0.99767036,\n",
              "        0.99767036, 0.99883518, 0.99534071, 0.99767036, 0.99592312]),\n",
              " 'XGB': array([0.99767171, 0.99767036, 0.99825277, 0.99767036, 0.99417589,\n",
              "        0.99767036, 0.99767036, 0.99534071, 0.99708794, 0.99825277]),\n",
              " 'adaBoost': array([0.99243306, 0.99592312, 0.9947583 , 0.99359348, 0.99068142,\n",
              "        0.99301107, 0.99359348, 0.99009901, 0.9947583 , 0.99126383])}"
            ]
          },
          "metadata": {
            "tags": []
          },
          "execution_count": 119
        }
      ]
    },
    {
      "cell_type": "code",
      "metadata": {
        "id": "zXjRx3xOFi-a",
        "colab_type": "code",
        "colab": {
          "base_uri": "https://localhost:8080/",
          "height": 612
        },
        "outputId": "72baafe2-7c78-4872-9250-33a501ff3707"
      },
      "source": [
        "mod_stats(d_dic, 'dos')"
      ],
      "execution_count": 120,
      "outputs": [
        {
          "output_type": "stream",
          "text": [
            "Accuracy of XGB is 99.71463208088937 and std is 0.1261349826785727\n",
            "Accuracy of RandomForest is 99.76122497547296 and std is 0.1088041213050224\n",
            "Accuracy of GaussianNB is 90.6994392173587 and std is 0.5933350182237864\n",
            "Accuracy of adaBoost is 99.30115065194117 and std is 0.1804393288950171\n",
            "Accuracy of KNN is 98.94589678100864 and std is 0.2058328743836751\n",
            "Accuracy of MLPc is 99.00413111913122 and std is 0.1794361187323147\n",
            "         XGB  RandomForest  GaussianNB   adaBoost        KNN       MLPc\n",
            "0  99.767171     99.767171   90.628638  99.243306  98.952270  99.068685\n",
            "1  99.767036     99.883518   91.846243  99.592312  99.126383  98.835178\n",
            "2  99.825277     99.825277   91.205591  99.475830  99.068142  98.951660\n",
            "3  99.767036     99.825277   90.157251  99.359348  99.242865  99.242865\n",
            "4  99.417589     99.767036   90.564939  99.068142  99.009901  98.835178\n",
            "5  99.767036     99.767036   91.089109  99.301107  98.951660  99.184624\n",
            "6  99.767036     99.883518   90.157251  99.359348  98.602213  99.184624\n",
            "7  99.534071     99.534071   91.089109  99.009901  98.718695  98.951660\n",
            "8  99.708794     99.767036   89.691322  99.475830  98.660454  98.660454\n",
            "9  99.825277     99.592312   90.564939  99.126383  99.126383  99.126383\n"
          ],
          "name": "stdout"
        },
        {
          "output_type": "display_data",
          "data": {
            "image/png": "[encoded data removed]",
            "text/plain": [
              "<Figure size 432x288 with 1 Axes>"
            ]
          },
          "metadata": {
            "tags": []
          }
        }
      ]
    },
    {
      "cell_type": "markdown",
      "metadata": {
        "id": "CXMwnsxxBP7Q",
        "colab_type": "text"
      },
      "source": [
        "> ## Probe"
      ]
    },
    {
      "cell_type": "code",
      "metadata": {
        "id": "IpyhNs9NGeMG",
        "colab_type": "code",
        "colab": {
          "base_uri": "https://localhost:8080/",
          "height": 104
        },
        "outputId": "294aa2d1-8f9e-40e2-d684-9a0386970a34"
      },
      "source": [
        "X_train, y_train, X_test, y_test = get_test_train(probe_train, probe_test, probe_uf )\n",
        "print('Train Size:\\n  {}\\n Test Size:\\n  {}\\n'.format(X_train.shape, X_test.shape))"
      ],
      "execution_count": 121,
      "outputs": [
        {
          "output_type": "stream",
          "text": [
            "Train Size:\n",
            "  (78999, 18)\n",
            " Test Size:\n",
            "  (12132, 18)\n",
            "\n"
          ],
          "name": "stdout"
        }
      ]
    },
    {
      "cell_type": "code",
      "metadata": {
        "id": "5Yl5C0XtGeIk",
        "colab_type": "code",
        "colab": {
          "base_uri": "https://localhost:8080/",
          "height": 141
        },
        "outputId": "f8a0755d-3d6d-41ac-d086-2056128e3256"
      },
      "source": [
        "clf_probe=DecisionTreeClassifier(random_state=101)\n",
        "clf_probe.fit(X_train, y_train)\n",
        "y_pred=clf_probe.predict(X_test)\n",
        "# Create confusion matrix\n",
        "pd.crosstab(y_test, y_pred, rownames=['Actual attacks'], colnames=['Predicted attacks'])"
      ],
      "execution_count": 122,
      "outputs": [
        {
          "output_type": "execute_result",
          "data": {
            "text/html": [
              "<div>\n",
              "<style scoped>\n",
              "    .dataframe tbody tr th:only-of-type {\n",
              "        vertical-align: middle;\n",
              "    }\n",
              "\n",
              "    .dataframe tbody tr th {\n",
              "        vertical-align: top;\n",
              "    }\n",
              "\n",
              "    .dataframe thead th {\n",
              "        text-align: right;\n",
              "    }\n",
              "</style>\n",
              "<table border=\"1\" class=\"dataframe\">\n",
              "  <thead>\n",
              "    <tr style=\"text-align: right;\">\n",
              "      <th>Predicted attacks</th>\n",
              "      <th>0</th>\n",
              "      <th>2</th>\n",
              "    </tr>\n",
              "    <tr>\n",
              "      <th>Actual attacks</th>\n",
              "      <th></th>\n",
              "      <th></th>\n",
              "    </tr>\n",
              "  </thead>\n",
              "  <tbody>\n",
              "    <tr>\n",
              "      <th>0</th>\n",
              "      <td>8369</td>\n",
              "      <td>1342</td>\n",
              "    </tr>\n",
              "    <tr>\n",
              "      <th>2</th>\n",
              "      <td>1133</td>\n",
              "      <td>1288</td>\n",
              "    </tr>\n",
              "  </tbody>\n",
              "</table>\n",
              "</div>"
            ],
            "text/plain": [
              "Predicted attacks     0     2\n",
              "Actual attacks               \n",
              "0                  8369  1342\n",
              "2                  1133  1288"
            ]
          },
          "metadata": {
            "tags": []
          },
          "execution_count": 122
        }
      ]
    },
    {
      "cell_type": "code",
      "metadata": {
        "id": "EDw_EfBOLKCn",
        "colab_type": "code",
        "colab": {
          "base_uri": "https://localhost:8080/",
          "height": 173
        },
        "outputId": "3b2ee82e-fa18-482f-de5a-cb99995d0e53"
      },
      "source": [
        "print(classification_report(y_test, y_pred))"
      ],
      "execution_count": 123,
      "outputs": [
        {
          "output_type": "stream",
          "text": [
            "              precision    recall  f1-score   support\n",
            "\n",
            "           0       0.88      0.86      0.87      9711\n",
            "           2       0.49      0.53      0.51      2421\n",
            "\n",
            "    accuracy                           0.80     12132\n",
            "   macro avg       0.69      0.70      0.69     12132\n",
            "weighted avg       0.80      0.80      0.80     12132\n",
            "\n"
          ],
          "name": "stdout"
        }
      ]
    },
    {
      "cell_type": "code",
      "metadata": {
        "id": "pRpM3ulpLl28",
        "colab_type": "code",
        "colab": {
          "base_uri": "https://localhost:8080/",
          "height": 765
        },
        "outputId": "aa4f7891-934e-4608-b30d-6ea06658fe07"
      },
      "source": [
        "# Didn't changed the variable names. Just made them correct.\n",
        "# Will make func\n",
        "dos_X, dos_Y = X_test, y_test\n",
        "t0 = time()\n",
        "print(\"Initiating Build #1!\")\n",
        "print(\"1%..\", end =\"\")\n",
        "d_xgb = skfold(dos_X, dos_Y, xgboost.XGBClassifier())\n",
        "print(\"15%..\", end =\"\")\n",
        "d_gnb = skfold(dos_X, dos_Y, GaussianNB())\n",
        "print(\"30%..\", end =\"\")\n",
        "d_rf = skfold(dos_X, dos_Y, RandomForestClassifier())\n",
        "print(\"45%..\", end =\"\")\n",
        "#d_svc = skfold(dos_X, dos_Y, SVC())\n",
        "print(\"60%..\", end =\"\")\n",
        "d_ada = skfold(dos_X, dos_Y, AdaBoostClassifier())\n",
        "print(\"75%..\", end =\"\")\n",
        "d_knn = skfold(dos_X, dos_Y, KNeighborsClassifier())\n",
        "print(\"90%..\", end =\"\")\n",
        "d_MLPc = skfold(dos_X, dos_Y, MLPClassifier())\n",
        "print(\"100%!\")\n",
        "print(\"Time taken {} seconds\\n\".format(time() - t0))\n",
        "d_dic = {'XGB': d_xgb, 'RandomForest': d_rf, # 'SVC': d_svc,\n",
        "         'GaussianNB': d_gnb, 'adaBoost': d_ada, 'KNN': d_knn, 'MLPc': d_MLPc}\n",
        "d_dic"
      ],
      "execution_count": 124,
      "outputs": [
        {
          "output_type": "stream",
          "text": [
            "Initiating Build #1!\n",
            "1%..15%..30%.."
          ],
          "name": "stdout"
        },
        {
          "output_type": "stream",
          "text": [
            "/usr/local/lib/python3.6/dist-packages/sklearn/ensemble/forest.py:245: FutureWarning: The default value of n_estimators will change from 10 in version 0.20 to 100 in 0.22.\n",
            "  \"10 in version 0.20 to 100 in 0.22.\", FutureWarning)\n",
            "/usr/local/lib/python3.6/dist-packages/sklearn/ensemble/forest.py:245: FutureWarning: The default value of n_estimators will change from 10 in version 0.20 to 100 in 0.22.\n",
            "  \"10 in version 0.20 to 100 in 0.22.\", FutureWarning)\n",
            "/usr/local/lib/python3.6/dist-packages/sklearn/ensemble/forest.py:245: FutureWarning: The default value of n_estimators will change from 10 in version 0.20 to 100 in 0.22.\n",
            "  \"10 in version 0.20 to 100 in 0.22.\", FutureWarning)\n",
            "/usr/local/lib/python3.6/dist-packages/sklearn/ensemble/forest.py:245: FutureWarning: The default value of n_estimators will change from 10 in version 0.20 to 100 in 0.22.\n",
            "  \"10 in version 0.20 to 100 in 0.22.\", FutureWarning)\n",
            "/usr/local/lib/python3.6/dist-packages/sklearn/ensemble/forest.py:245: FutureWarning: The default value of n_estimators will change from 10 in version 0.20 to 100 in 0.22.\n",
            "  \"10 in version 0.20 to 100 in 0.22.\", FutureWarning)\n",
            "/usr/local/lib/python3.6/dist-packages/sklearn/ensemble/forest.py:245: FutureWarning: The default value of n_estimators will change from 10 in version 0.20 to 100 in 0.22.\n",
            "  \"10 in version 0.20 to 100 in 0.22.\", FutureWarning)\n",
            "/usr/local/lib/python3.6/dist-packages/sklearn/ensemble/forest.py:245: FutureWarning: The default value of n_estimators will change from 10 in version 0.20 to 100 in 0.22.\n",
            "  \"10 in version 0.20 to 100 in 0.22.\", FutureWarning)\n",
            "/usr/local/lib/python3.6/dist-packages/sklearn/ensemble/forest.py:245: FutureWarning: The default value of n_estimators will change from 10 in version 0.20 to 100 in 0.22.\n",
            "  \"10 in version 0.20 to 100 in 0.22.\", FutureWarning)\n",
            "/usr/local/lib/python3.6/dist-packages/sklearn/ensemble/forest.py:245: FutureWarning: The default value of n_estimators will change from 10 in version 0.20 to 100 in 0.22.\n",
            "  \"10 in version 0.20 to 100 in 0.22.\", FutureWarning)\n",
            "/usr/local/lib/python3.6/dist-packages/sklearn/ensemble/forest.py:245: FutureWarning: The default value of n_estimators will change from 10 in version 0.20 to 100 in 0.22.\n",
            "  \"10 in version 0.20 to 100 in 0.22.\", FutureWarning)\n"
          ],
          "name": "stderr"
        },
        {
          "output_type": "stream",
          "text": [
            "45%..60%..75%..90%.."
          ],
          "name": "stdout"
        },
        {
          "output_type": "stream",
          "text": [
            "/usr/local/lib/python3.6/dist-packages/sklearn/neural_network/multilayer_perceptron.py:566: ConvergenceWarning: Stochastic Optimizer: Maximum iterations (200) reached and the optimization hasn't converged yet.\n",
            "  % self.max_iter, ConvergenceWarning)\n",
            "/usr/local/lib/python3.6/dist-packages/sklearn/neural_network/multilayer_perceptron.py:566: ConvergenceWarning: Stochastic Optimizer: Maximum iterations (200) reached and the optimization hasn't converged yet.\n",
            "  % self.max_iter, ConvergenceWarning)\n"
          ],
          "name": "stderr"
        },
        {
          "output_type": "stream",
          "text": [
            "100%!\n",
            "Time taken 118.2907485961914 seconds\n",
            "\n"
          ],
          "name": "stdout"
        },
        {
          "output_type": "stream",
          "text": [
            "/usr/local/lib/python3.6/dist-packages/sklearn/neural_network/multilayer_perceptron.py:566: ConvergenceWarning: Stochastic Optimizer: Maximum iterations (200) reached and the optimization hasn't converged yet.\n",
            "  % self.max_iter, ConvergenceWarning)\n"
          ],
          "name": "stderr"
        },
        {
          "output_type": "execute_result",
          "data": {
            "text/plain": [
              "{'GaussianNB': array([0.97283951, 0.95960429, 0.97114592, 0.97279472, 0.97526793,\n",
              "        0.96784831, 0.96619951, 0.95877988, 0.96949711, 0.96702391]),\n",
              " 'KNN': array([0.98847737, 0.98680956, 0.98763397, 0.98680956, 0.98928277,\n",
              "        0.98598516, 0.98680956, 0.98598516, 0.98680956, 0.98433636]),\n",
              " 'MLPc': array([0.98683128, 0.98268755, 0.99010717, 0.98763397, 0.98928277,\n",
              "        0.98433636, 0.98516076, 0.98598516, 0.99175598, 0.98433636]),\n",
              " 'RandomForest': array([0.99506173, 0.99175598, 0.99752679, 0.99505359, 0.99505359,\n",
              "        0.99587799, 0.99175598, 0.99505359, 0.99505359, 0.99340478]),\n",
              " 'XGB': array([0.99341564, 0.99010717, 0.99422918, 0.99093157, 0.99587799,\n",
              "        0.9983512 , 0.99258038, 0.99175598, 0.99422918, 0.99175598]),\n",
              " 'adaBoost': array([0.98600823, 0.98021434, 0.99093157, 0.98763397, 0.99093157,\n",
              "        0.99587799, 0.98516076, 0.98598516, 0.98598516, 0.99010717])}"
            ]
          },
          "metadata": {
            "tags": []
          },
          "execution_count": 124
        }
      ]
    },
    {
      "cell_type": "code",
      "metadata": {
        "id": "XK21FINFLoqY",
        "colab_type": "code",
        "colab": {
          "base_uri": "https://localhost:8080/",
          "height": 612
        },
        "outputId": "37d1dccb-5948-4b6a-e8d9-b78102812be6"
      },
      "source": [
        "mod_stats(d_dic, 'probe ')"
      ],
      "execution_count": 135,
      "outputs": [
        {
          "output_type": "stream",
          "text": [
            "Accuracy of XGB is 99.33234269352249 and std is 0.2344881758155417\n",
            "Accuracy of RandomForest is 99.45597589895476 and std is 0.1697787244814388\n",
            "Accuracy of GaussianNB is 96.81001089025271 and std is 0.5205641456473235\n",
            "Accuracy of adaBoost is 98.78835930370234 and std is 0.4055288337588719\n",
            "Accuracy of KNN is 98.68939031547808 and std is 0.1303182928684142\n",
            "Accuracy of MLPc is 98.68117343321154 and std is 0.2734240891957512\n",
            "         XGB  RandomForest  GaussianNB   adaBoost        KNN       MLPc\n",
            "0  99.341564     99.506173   97.283951  98.600823  98.847737  98.683128\n",
            "1  99.010717     99.175598   95.960429  98.021434  98.680956  98.268755\n",
            "2  99.422918     99.752679   97.114592  99.093157  98.763397  99.010717\n",
            "3  99.093157     99.505359   97.279472  98.763397  98.680956  98.763397\n",
            "4  99.587799     99.505359   97.526793  99.093157  98.928277  98.928277\n",
            "5  99.835120     99.587799   96.784831  99.587799  98.598516  98.433636\n",
            "6  99.258038     99.175598   96.619951  98.516076  98.680956  98.516076\n",
            "7  99.175598     99.505359   95.877988  98.598516  98.598516  98.598516\n",
            "8  99.422918     99.505359   96.949711  98.598516  98.680956  99.175598\n",
            "9  99.175598     99.340478   96.702391  99.010717  98.433636  98.433636\n"
          ],
          "name": "stdout"
        },
        {
          "output_type": "display_data",
          "data": {
            "image/png": "[encoded data removed]",
            "text/plain": [
              "<Figure size 432x288 with 1 Axes>"
            ]
          },
          "metadata": {
            "tags": []
          }
        }
      ]
    },
    {
      "cell_type": "markdown",
      "metadata": {
        "id": "sgvurEhDBPeQ",
        "colab_type": "text"
      },
      "source": [
        "> ## R2L"
      ]
    },
    {
      "cell_type": "code",
      "metadata": {
        "id": "UbLBCRX351xl",
        "colab_type": "code",
        "colab": {
          "base_uri": "https://localhost:8080/",
          "height": 104
        },
        "outputId": "7ee6f0b1-9273-4df7-d595-0b9c1df022d8"
      },
      "source": [
        "X_train, y_train, X_test, y_test = get_test_train(r2l_train, r2l_test, r2l_uf )\n",
        "print('Train Size:\\n  {}\\n Test Size:\\n  {}\\n'.format(X_train.shape, X_test.shape))"
      ],
      "execution_count": 137,
      "outputs": [
        {
          "output_type": "stream",
          "text": [
            "Train Size:\n",
            "  (68338, 18)\n",
            " Test Size:\n",
            "  (12596, 18)\n",
            "\n"
          ],
          "name": "stdout"
        }
      ]
    },
    {
      "cell_type": "code",
      "metadata": {
        "id": "VhhcGa3yBVEm",
        "colab_type": "code",
        "colab": {
          "base_uri": "https://localhost:8080/",
          "height": 141
        },
        "outputId": "bd40c873-603b-4fb2-c81b-262aa5e945e7"
      },
      "source": [
        "clf_r=DecisionTreeClassifier(random_state=101)\n",
        "clf_r.fit(X_train, y_train)\n",
        "y_pred=clf_r.predict(X_test)\n",
        "# Create confusion matrix\n",
        "pd.crosstab(y_test, y_pred, rownames=['Actual attacks'], colnames=['Predicted attacks'])"
      ],
      "execution_count": 127,
      "outputs": [
        {
          "output_type": "execute_result",
          "data": {
            "text/html": [
              "<div>\n",
              "<style scoped>\n",
              "    .dataframe tbody tr th:only-of-type {\n",
              "        vertical-align: middle;\n",
              "    }\n",
              "\n",
              "    .dataframe tbody tr th {\n",
              "        vertical-align: top;\n",
              "    }\n",
              "\n",
              "    .dataframe thead th {\n",
              "        text-align: right;\n",
              "    }\n",
              "</style>\n",
              "<table border=\"1\" class=\"dataframe\">\n",
              "  <thead>\n",
              "    <tr style=\"text-align: right;\">\n",
              "      <th>Predicted attacks</th>\n",
              "      <th>0</th>\n",
              "      <th>3</th>\n",
              "    </tr>\n",
              "    <tr>\n",
              "      <th>Actual attacks</th>\n",
              "      <th></th>\n",
              "      <th></th>\n",
              "    </tr>\n",
              "  </thead>\n",
              "  <tbody>\n",
              "    <tr>\n",
              "      <th>0</th>\n",
              "      <td>9675</td>\n",
              "      <td>36</td>\n",
              "    </tr>\n",
              "    <tr>\n",
              "      <th>3</th>\n",
              "      <td>2867</td>\n",
              "      <td>18</td>\n",
              "    </tr>\n",
              "  </tbody>\n",
              "</table>\n",
              "</div>"
            ],
            "text/plain": [
              "Predicted attacks     0   3\n",
              "Actual attacks             \n",
              "0                  9675  36\n",
              "3                  2867  18"
            ]
          },
          "metadata": {
            "tags": []
          },
          "execution_count": 127
        }
      ]
    },
    {
      "cell_type": "code",
      "metadata": {
        "id": "Wu3hCZ1uMdgA",
        "colab_type": "code",
        "colab": {
          "base_uri": "https://localhost:8080/",
          "height": 173
        },
        "outputId": "14cfe314-a3b7-44df-9fa4-8e98e953c156"
      },
      "source": [
        "print(classification_report(y_test, y_pred))"
      ],
      "execution_count": 128,
      "outputs": [
        {
          "output_type": "stream",
          "text": [
            "              precision    recall  f1-score   support\n",
            "\n",
            "           0       0.77      1.00      0.87      9711\n",
            "           3       0.33      0.01      0.01      2885\n",
            "\n",
            "    accuracy                           0.77     12596\n",
            "   macro avg       0.55      0.50      0.44     12596\n",
            "weighted avg       0.67      0.77      0.67     12596\n",
            "\n"
          ],
          "name": "stdout"
        }
      ]
    },
    {
      "cell_type": "code",
      "metadata": {
        "id": "v5u7PXT1ON_U",
        "colab_type": "code",
        "colab": {
          "base_uri": "https://localhost:8080/",
          "height": 1000
        },
        "outputId": "409b6826-62de-44e1-d101-005514bed74c"
      },
      "source": [
        "dos_X, dos_Y = X_test, y_test\n",
        "t0 = time()\n",
        "print(\"Initiating Build #1!\")\n",
        "print(\"1%..\", end =\"\")\n",
        "d_xgb = skfold(dos_X, dos_Y, xgboost.XGBClassifier())\n",
        "print(\"15%..\", end =\"\")\n",
        "d_gnb = skfold(dos_X, dos_Y, GaussianNB())\n",
        "print(\"30%..\", end =\"\")\n",
        "d_rf = skfold(dos_X, dos_Y, RandomForestClassifier())\n",
        "print(\"45%..\", end =\"\")\n",
        "#d_svc = skfold(dos_X, dos_Y, SVC())\n",
        "print(\"60%..\", end =\"\")\n",
        "d_ada = skfold(dos_X, dos_Y, AdaBoostClassifier())\n",
        "print(\"75%..\", end =\"\")\n",
        "d_knn = skfold(dos_X, dos_Y, KNeighborsClassifier())\n",
        "print(\"90%..\", end =\"\")\n",
        "d_MLPc = skfold(dos_X, dos_Y, MLPClassifier())\n",
        "print(\"100%!\")\n",
        "print(\"Time taken {} seconds\\n\".format(time() - t0))\n",
        "d_dic = {'XGB': d_xgb, 'RandomForest': d_rf, # 'SVC': d_svc,\n",
        "         'GaussianNB': d_gnb, 'adaBoost': d_ada, 'KNN': d_knn, 'MLPc': d_MLPc}\n",
        "d_dic"
      ],
      "execution_count": 138,
      "outputs": [
        {
          "output_type": "stream",
          "text": [
            "Initiating Build #1!\n",
            "1%..15%..30%.."
          ],
          "name": "stdout"
        },
        {
          "output_type": "stream",
          "text": [
            "/usr/local/lib/python3.6/dist-packages/sklearn/ensemble/forest.py:245: FutureWarning: The default value of n_estimators will change from 10 in version 0.20 to 100 in 0.22.\n",
            "  \"10 in version 0.20 to 100 in 0.22.\", FutureWarning)\n",
            "/usr/local/lib/python3.6/dist-packages/sklearn/ensemble/forest.py:245: FutureWarning: The default value of n_estimators will change from 10 in version 0.20 to 100 in 0.22.\n",
            "  \"10 in version 0.20 to 100 in 0.22.\", FutureWarning)\n",
            "/usr/local/lib/python3.6/dist-packages/sklearn/ensemble/forest.py:245: FutureWarning: The default value of n_estimators will change from 10 in version 0.20 to 100 in 0.22.\n",
            "  \"10 in version 0.20 to 100 in 0.22.\", FutureWarning)\n",
            "/usr/local/lib/python3.6/dist-packages/sklearn/ensemble/forest.py:245: FutureWarning: The default value of n_estimators will change from 10 in version 0.20 to 100 in 0.22.\n",
            "  \"10 in version 0.20 to 100 in 0.22.\", FutureWarning)\n",
            "/usr/local/lib/python3.6/dist-packages/sklearn/ensemble/forest.py:245: FutureWarning: The default value of n_estimators will change from 10 in version 0.20 to 100 in 0.22.\n",
            "  \"10 in version 0.20 to 100 in 0.22.\", FutureWarning)\n",
            "/usr/local/lib/python3.6/dist-packages/sklearn/ensemble/forest.py:245: FutureWarning: The default value of n_estimators will change from 10 in version 0.20 to 100 in 0.22.\n",
            "  \"10 in version 0.20 to 100 in 0.22.\", FutureWarning)\n",
            "/usr/local/lib/python3.6/dist-packages/sklearn/ensemble/forest.py:245: FutureWarning: The default value of n_estimators will change from 10 in version 0.20 to 100 in 0.22.\n",
            "  \"10 in version 0.20 to 100 in 0.22.\", FutureWarning)\n",
            "/usr/local/lib/python3.6/dist-packages/sklearn/ensemble/forest.py:245: FutureWarning: The default value of n_estimators will change from 10 in version 0.20 to 100 in 0.22.\n",
            "  \"10 in version 0.20 to 100 in 0.22.\", FutureWarning)\n",
            "/usr/local/lib/python3.6/dist-packages/sklearn/ensemble/forest.py:245: FutureWarning: The default value of n_estimators will change from 10 in version 0.20 to 100 in 0.22.\n",
            "  \"10 in version 0.20 to 100 in 0.22.\", FutureWarning)\n",
            "/usr/local/lib/python3.6/dist-packages/sklearn/ensemble/forest.py:245: FutureWarning: The default value of n_estimators will change from 10 in version 0.20 to 100 in 0.22.\n",
            "  \"10 in version 0.20 to 100 in 0.22.\", FutureWarning)\n"
          ],
          "name": "stderr"
        },
        {
          "output_type": "stream",
          "text": [
            "45%..60%..75%..90%.."
          ],
          "name": "stdout"
        },
        {
          "output_type": "stream",
          "text": [
            "/usr/local/lib/python3.6/dist-packages/sklearn/neural_network/multilayer_perceptron.py:566: ConvergenceWarning: Stochastic Optimizer: Maximum iterations (200) reached and the optimization hasn't converged yet.\n",
            "  % self.max_iter, ConvergenceWarning)\n",
            "/usr/local/lib/python3.6/dist-packages/sklearn/neural_network/multilayer_perceptron.py:566: ConvergenceWarning: Stochastic Optimizer: Maximum iterations (200) reached and the optimization hasn't converged yet.\n",
            "  % self.max_iter, ConvergenceWarning)\n",
            "/usr/local/lib/python3.6/dist-packages/sklearn/neural_network/multilayer_perceptron.py:566: ConvergenceWarning: Stochastic Optimizer: Maximum iterations (200) reached and the optimization hasn't converged yet.\n",
            "  % self.max_iter, ConvergenceWarning)\n",
            "/usr/local/lib/python3.6/dist-packages/sklearn/neural_network/multilayer_perceptron.py:566: ConvergenceWarning: Stochastic Optimizer: Maximum iterations (200) reached and the optimization hasn't converged yet.\n",
            "  % self.max_iter, ConvergenceWarning)\n",
            "/usr/local/lib/python3.6/dist-packages/sklearn/neural_network/multilayer_perceptron.py:566: ConvergenceWarning: Stochastic Optimizer: Maximum iterations (200) reached and the optimization hasn't converged yet.\n",
            "  % self.max_iter, ConvergenceWarning)\n",
            "/usr/local/lib/python3.6/dist-packages/sklearn/neural_network/multilayer_perceptron.py:566: ConvergenceWarning: Stochastic Optimizer: Maximum iterations (200) reached and the optimization hasn't converged yet.\n",
            "  % self.max_iter, ConvergenceWarning)\n",
            "/usr/local/lib/python3.6/dist-packages/sklearn/neural_network/multilayer_perceptron.py:566: ConvergenceWarning: Stochastic Optimizer: Maximum iterations (200) reached and the optimization hasn't converged yet.\n",
            "  % self.max_iter, ConvergenceWarning)\n",
            "/usr/local/lib/python3.6/dist-packages/sklearn/neural_network/multilayer_perceptron.py:566: ConvergenceWarning: Stochastic Optimizer: Maximum iterations (200) reached and the optimization hasn't converged yet.\n",
            "  % self.max_iter, ConvergenceWarning)\n",
            "/usr/local/lib/python3.6/dist-packages/sklearn/neural_network/multilayer_perceptron.py:566: ConvergenceWarning: Stochastic Optimizer: Maximum iterations (200) reached and the optimization hasn't converged yet.\n",
            "  % self.max_iter, ConvergenceWarning)\n"
          ],
          "name": "stderr"
        },
        {
          "output_type": "stream",
          "text": [
            "100%!\n",
            "Time taken 137.26943373680115 seconds\n",
            "\n"
          ],
          "name": "stdout"
        },
        {
          "output_type": "stream",
          "text": [
            "/usr/local/lib/python3.6/dist-packages/sklearn/neural_network/multilayer_perceptron.py:566: ConvergenceWarning: Stochastic Optimizer: Maximum iterations (200) reached and the optimization hasn't converged yet.\n",
            "  % self.max_iter, ConvergenceWarning)\n"
          ],
          "name": "stderr"
        },
        {
          "output_type": "execute_result",
          "data": {
            "text/plain": [
              "{'GaussianNB': array([0.8445678 , 0.85238095, 0.84761905, 0.86428571, 0.86190476,\n",
              "        0.85941223, 0.86338364, 0.86020651, 0.84114376, 0.85702939]),\n",
              " 'KNN': array([0.96272799, 0.96031746, 0.95793651, 0.96269841, 0.96349206,\n",
              "        0.96981732, 0.97220016, 0.96505163, 0.95949166, 0.95472597]),\n",
              " 'MLPc': array([0.94290246, 0.94285714, 0.94126984, 0.93968254, 0.94365079,\n",
              "        0.9451946 , 0.94440032, 0.93804607, 0.93725179, 0.94201747]),\n",
              " 'RandomForest': array([0.97620936, 0.97380952, 0.97380952, 0.97698413, 0.97777778,\n",
              "        0.9872915 , 0.98490866, 0.98649722, 0.97776013, 0.97299444]),\n",
              " 'XGB': array([0.96907216, 0.97063492, 0.97460317, 0.96269841, 0.97619048,\n",
              "        0.97855441, 0.97220016, 0.96822875, 0.97220016, 0.96266878]),\n",
              " 'adaBoost': array([0.95876289, 0.96746032, 0.97222222, 0.95555556, 0.96666667,\n",
              "        0.96822875, 0.97140588, 0.96108022, 0.95552025, 0.95154885])}"
            ]
          },
          "metadata": {
            "tags": []
          },
          "execution_count": 138
        }
      ]
    },
    {
      "cell_type": "code",
      "metadata": {
        "id": "ZUcvtLrkOijn",
        "colab_type": "code",
        "colab": {
          "base_uri": "https://localhost:8080/",
          "height": 612
        },
        "outputId": "15a49ead-9ef6-4ac7-ea72-f7c158d7566a"
      },
      "source": [
        "mod_stats(d_dic, 'r2l')"
      ],
      "execution_count": 139,
      "outputs": [
        {
          "output_type": "stream",
          "text": [
            "Accuracy of XGB is 97.07051412776788 and std is 0.49885817686424044\n",
            "Accuracy of RandomForest is 97.88042256022489 and std is 0.5141183099815947\n",
            "Accuracy of GaussianNB is 85.51933815660959 and std is 0.7852830566996469\n",
            "Accuracy of adaBoost is 96.28451604022953 and std is 0.6930231204743912\n",
            "Accuracy of KNN is 96.28459173604644 and std is 0.4990996766552594\n",
            "Accuracy of MLPc is 94.17273022053857 and std is 0.2521522390560044\n",
            "         XGB  RandomForest  GaussianNB   adaBoost        KNN       MLPc\n",
            "0  96.907216     97.620936   84.456780  95.876289  96.272799  94.290246\n",
            "1  97.063492     97.380952   85.238095  96.746032  96.031746  94.285714\n",
            "2  97.460317     97.380952   84.761905  97.222222  95.793651  94.126984\n",
            "3  96.269841     97.698413   86.428571  95.555556  96.269841  93.968254\n",
            "4  97.619048     97.777778   86.190476  96.666667  96.349206  94.365079\n",
            "5  97.855441     98.729150   85.941223  96.822875  96.981732  94.519460\n",
            "6  97.220016     98.490866   86.338364  97.140588  97.220016  94.440032\n",
            "7  96.822875     98.649722   86.020651  96.108022  96.505163  93.804607\n",
            "8  97.220016     97.776013   84.114376  95.552025  95.949166  93.725179\n",
            "9  96.266878     97.299444   85.702939  95.154885  95.472597  94.201747\n"
          ],
          "name": "stdout"
        },
        {
          "output_type": "display_data",
          "data": {
            "image/png": "[encoded data removed]",
            "text/plain": [
              "<Figure size 432x288 with 1 Axes>"
            ]
          },
          "metadata": {
            "tags": []
          }
        }
      ]
    },
    {
      "cell_type": "markdown",
      "metadata": {
        "id": "-_W4Cs5TGjFZ",
        "colab_type": "text"
      },
      "source": [
        "> ## U2R"
      ]
    },
    {
      "cell_type": "code",
      "metadata": {
        "id": "KKgfhThd6jLc",
        "colab_type": "code",
        "colab": {
          "base_uri": "https://localhost:8080/",
          "height": 104
        },
        "outputId": "55f6d206-a340-41be-a1d4-469f979141b4"
      },
      "source": [
        "X_train, y_train, X_test, y_test = get_test_train(u2r_train, u2r_test, u2r_uf )\n",
        "print('Train Size:\\n  {}\\n Test Size:\\n  {}\\n'.format(X_train.shape, X_test.shape))"
      ],
      "execution_count": 142,
      "outputs": [
        {
          "output_type": "stream",
          "text": [
            "Train Size:\n",
            "  (67395, 19)\n",
            " Test Size:\n",
            "  (9778, 19)\n",
            "\n"
          ],
          "name": "stdout"
        }
      ]
    },
    {
      "cell_type": "code",
      "metadata": {
        "id": "hjP6GB8y7YdD",
        "colab_type": "code",
        "colab": {
          "base_uri": "https://localhost:8080/",
          "height": 141
        },
        "outputId": "19784a5a-bd3f-4acc-adad-c3994e382ac6"
      },
      "source": [
        "clf_r=DecisionTreeClassifier(random_state=101)\n",
        "clf_r.fit(X_train, y_train)\n",
        "y_pred=clf_r.predict(X_test)\n",
        "# Create confusion matrix\n",
        "pd.crosstab(y_test, y_pred, rownames=['Actual attacks'], colnames=['Predicted attacks'])"
      ],
      "execution_count": 133,
      "outputs": [
        {
          "output_type": "execute_result",
          "data": {
            "text/html": [
              "<div>\n",
              "<style scoped>\n",
              "    .dataframe tbody tr th:only-of-type {\n",
              "        vertical-align: middle;\n",
              "    }\n",
              "\n",
              "    .dataframe tbody tr th {\n",
              "        vertical-align: top;\n",
              "    }\n",
              "\n",
              "    .dataframe thead th {\n",
              "        text-align: right;\n",
              "    }\n",
              "</style>\n",
              "<table border=\"1\" class=\"dataframe\">\n",
              "  <thead>\n",
              "    <tr style=\"text-align: right;\">\n",
              "      <th>Predicted attacks</th>\n",
              "      <th>0</th>\n",
              "      <th>4</th>\n",
              "    </tr>\n",
              "    <tr>\n",
              "      <th>Actual attacks</th>\n",
              "      <th></th>\n",
              "      <th></th>\n",
              "    </tr>\n",
              "  </thead>\n",
              "  <tbody>\n",
              "    <tr>\n",
              "      <th>0</th>\n",
              "      <td>9701</td>\n",
              "      <td>10</td>\n",
              "    </tr>\n",
              "    <tr>\n",
              "      <th>4</th>\n",
              "      <td>57</td>\n",
              "      <td>10</td>\n",
              "    </tr>\n",
              "  </tbody>\n",
              "</table>\n",
              "</div>"
            ],
            "text/plain": [
              "Predicted attacks     0   4\n",
              "Actual attacks             \n",
              "0                  9701  10\n",
              "4                    57  10"
            ]
          },
          "metadata": {
            "tags": []
          },
          "execution_count": 133
        }
      ]
    },
    {
      "cell_type": "code",
      "metadata": {
        "id": "wqsxIVN2MkQ8",
        "colab_type": "code",
        "colab": {
          "base_uri": "https://localhost:8080/",
          "height": 173
        },
        "outputId": "409f031d-b6df-4fc1-9cec-6fa90bb90c2b"
      },
      "source": [
        "print(classification_report(y_test, y_pred))"
      ],
      "execution_count": 134,
      "outputs": [
        {
          "output_type": "stream",
          "text": [
            "              precision    recall  f1-score   support\n",
            "\n",
            "           0       0.99      1.00      1.00      9711\n",
            "           4       0.50      0.15      0.23        67\n",
            "\n",
            "    accuracy                           0.99      9778\n",
            "   macro avg       0.75      0.57      0.61      9778\n",
            "weighted avg       0.99      0.99      0.99      9778\n",
            "\n"
          ],
          "name": "stdout"
        }
      ]
    },
    {
      "cell_type": "code",
      "metadata": {
        "id": "-EAdWLrfQNqX",
        "colab_type": "code",
        "colab": {
          "base_uri": "https://localhost:8080/",
          "height": 661
        },
        "outputId": "279b8556-612f-41fd-d3b9-f855d3483862"
      },
      "source": [
        "dos_X, dos_Y = X_test, y_test\n",
        "t0 = time()\n",
        "print(\"Initiating Build #1!\")\n",
        "print(\"1%..\", end =\"\")\n",
        "d_xgb = skfold(dos_X, dos_Y, xgboost.XGBClassifier())\n",
        "print(\"15%..\", end =\"\")\n",
        "d_gnb = skfold(dos_X, dos_Y, GaussianNB())\n",
        "print(\"30%..\", end =\"\")\n",
        "d_rf = skfold(dos_X, dos_Y, RandomForestClassifier())\n",
        "print(\"45%..\", end =\"\")\n",
        "#d_svc = skfold(dos_X, dos_Y, SVC())\n",
        "print(\"60%..\", end =\"\")\n",
        "d_ada = skfold(dos_X, dos_Y, AdaBoostClassifier())\n",
        "print(\"75%..\", end =\"\")\n",
        "d_knn = skfold(dos_X, dos_Y, KNeighborsClassifier())\n",
        "print(\"90%..\", end =\"\")\n",
        "d_MLPc = skfold(dos_X, dos_Y, MLPClassifier())\n",
        "print(\"100%!\")\n",
        "print(\"Time taken {} seconds\\n\".format(time() - t0))\n",
        "d_dic = {'XGB': d_xgb, 'RandomForest': d_rf, # 'SVC': d_svc,\n",
        "         'GaussianNB': d_gnb, 'adaBoost': d_ada, 'KNN': d_knn, 'MLPc': d_MLPc}\n",
        "d_dic"
      ],
      "execution_count": 148,
      "outputs": [
        {
          "output_type": "stream",
          "text": [
            "Initiating Build #1!\n",
            "1%..15%..30%.."
          ],
          "name": "stdout"
        },
        {
          "output_type": "stream",
          "text": [
            "/usr/local/lib/python3.6/dist-packages/sklearn/ensemble/forest.py:245: FutureWarning: The default value of n_estimators will change from 10 in version 0.20 to 100 in 0.22.\n",
            "  \"10 in version 0.20 to 100 in 0.22.\", FutureWarning)\n",
            "/usr/local/lib/python3.6/dist-packages/sklearn/ensemble/forest.py:245: FutureWarning: The default value of n_estimators will change from 10 in version 0.20 to 100 in 0.22.\n",
            "  \"10 in version 0.20 to 100 in 0.22.\", FutureWarning)\n",
            "/usr/local/lib/python3.6/dist-packages/sklearn/ensemble/forest.py:245: FutureWarning: The default value of n_estimators will change from 10 in version 0.20 to 100 in 0.22.\n",
            "  \"10 in version 0.20 to 100 in 0.22.\", FutureWarning)\n",
            "/usr/local/lib/python3.6/dist-packages/sklearn/ensemble/forest.py:245: FutureWarning: The default value of n_estimators will change from 10 in version 0.20 to 100 in 0.22.\n",
            "  \"10 in version 0.20 to 100 in 0.22.\", FutureWarning)\n",
            "/usr/local/lib/python3.6/dist-packages/sklearn/ensemble/forest.py:245: FutureWarning: The default value of n_estimators will change from 10 in version 0.20 to 100 in 0.22.\n",
            "  \"10 in version 0.20 to 100 in 0.22.\", FutureWarning)\n",
            "/usr/local/lib/python3.6/dist-packages/sklearn/ensemble/forest.py:245: FutureWarning: The default value of n_estimators will change from 10 in version 0.20 to 100 in 0.22.\n",
            "  \"10 in version 0.20 to 100 in 0.22.\", FutureWarning)\n",
            "/usr/local/lib/python3.6/dist-packages/sklearn/ensemble/forest.py:245: FutureWarning: The default value of n_estimators will change from 10 in version 0.20 to 100 in 0.22.\n",
            "  \"10 in version 0.20 to 100 in 0.22.\", FutureWarning)\n",
            "/usr/local/lib/python3.6/dist-packages/sklearn/ensemble/forest.py:245: FutureWarning: The default value of n_estimators will change from 10 in version 0.20 to 100 in 0.22.\n",
            "  \"10 in version 0.20 to 100 in 0.22.\", FutureWarning)\n",
            "/usr/local/lib/python3.6/dist-packages/sklearn/ensemble/forest.py:245: FutureWarning: The default value of n_estimators will change from 10 in version 0.20 to 100 in 0.22.\n",
            "  \"10 in version 0.20 to 100 in 0.22.\", FutureWarning)\n",
            "/usr/local/lib/python3.6/dist-packages/sklearn/ensemble/forest.py:245: FutureWarning: The default value of n_estimators will change from 10 in version 0.20 to 100 in 0.22.\n",
            "  \"10 in version 0.20 to 100 in 0.22.\", FutureWarning)\n"
          ],
          "name": "stderr"
        },
        {
          "output_type": "stream",
          "text": [
            "45%..60%..75%..90%..100%!\n",
            "Time taken 55.75341057777405 seconds\n",
            "\n"
          ],
          "name": "stdout"
        },
        {
          "output_type": "execute_result",
          "data": {
            "text/plain": [
              "{'GaussianNB': array([0.98876404, 0.9805726 , 0.98261759, 0.98773006, 0.93762781,\n",
              "        0.98159509, 0.97750511, 0.9825998 , 0.98055271, 0.98362334]),\n",
              " 'KNN': array([0.9938713 , 0.99693252, 0.99284254, 0.99386503, 0.99488753,\n",
              "        0.99488753, 0.99693252, 0.99692938, 0.99692938, 0.99897646]),\n",
              " 'MLPc': array([0.99489275, 0.99693252, 0.99693252, 0.99795501, 0.99795501,\n",
              "        0.99897751, 0.99897751, 0.99590583, 0.99692938, 0.99692938]),\n",
              " 'RandomForest': array([0.9959142 , 0.99488753, 0.99591002, 0.99795501, 0.99897751,\n",
              "        0.99795501, 0.99591002, 0.99795292, 0.99692938, 0.99795292]),\n",
              " 'XGB': array([0.99897855, 0.99488753, 0.99693252, 0.99591002, 0.99795501,\n",
              "        0.99795501, 0.99693252, 0.99897646, 0.99590583, 0.99897646]),\n",
              " 'adaBoost': array([0.9959142 , 0.99591002, 0.99795501, 0.99693252, 0.99591002,\n",
              "        0.99795501, 0.99693252, 0.99795292, 0.99590583, 0.99590583])}"
            ]
          },
          "metadata": {
            "tags": []
          },
          "execution_count": 148
        }
      ]
    },
    {
      "cell_type": "code",
      "metadata": {
        "id": "15L4MTkORL5T",
        "colab_type": "code",
        "colab": {
          "base_uri": "https://localhost:8080/",
          "height": 612
        },
        "outputId": "b3932c7e-202c-4789-f42a-a19d25857314"
      },
      "source": [
        "mod_stats(d_dic,'U2R')"
      ],
      "execution_count": 145,
      "outputs": [
        {
          "output_type": "stream",
          "text": [
            "Accuracy of XGB is 99.73409897956789 and std is 0.13872885267571974\n",
            "Accuracy of RandomForest is 99.713628129119 and std is 0.15031397173919978\n",
            "Accuracy of GaussianNB is 97.83188151124212 and std is 1.3927821941855236\n",
            "Accuracy of adaBoost is 99.67273875651641 and std is 0.08914901646586586\n",
            "Accuracy of KNN is 99.57054155329838 and std is 0.18163810646402168\n",
            "Accuracy of MLPc is 99.74431342002349 and std is 0.09430364205668597\n",
            "         XGB  RandomForest  GaussianNB   adaBoost        KNN       MLPc\n",
            "0  99.897855     99.795710   98.876404  99.591420  99.387130  99.693565\n",
            "1  99.488753     99.591002   98.057260  99.591002  99.693252  99.591002\n",
            "2  99.693252     99.386503   98.261759  99.795501  99.284254  99.693252\n",
            "3  99.591002     99.693252   98.773006  99.693252  99.386503  99.795501\n",
            "4  99.795501     99.897751   93.762781  99.591002  99.488753  99.795501\n",
            "5  99.795501     99.897751   98.159509  99.795501  99.488753  99.897751\n",
            "6  99.693252     99.795501   97.750511  99.693252  99.693252  99.897751\n",
            "7  99.897646     99.692938   98.259980  99.795292  99.692938  99.692938\n",
            "8  99.590583     99.590583   98.055271  99.590583  99.692938  99.692938\n",
            "9  99.897646     99.795292   98.362334  99.590583  99.897646  99.692938\n"
          ],
          "name": "stdout"
        },
        {
          "output_type": "display_data",
          "data": {
            "image/png": "[encoded data removed]",
            "text/plain": [
              "<Figure size 432x288 with 1 Axes>"
            ]
          },
          "metadata": {
            "tags": []
          }
        }
      ]
    },
    {
      "cell_type": "markdown",
      "metadata": {
        "id": "pqvyGO55GouJ",
        "colab_type": "text"
      },
      "source": [
        "## Combining the best model for final Intrusion Detection.\n",
        "Based on the previous work, select the model which excels in detecting a particular attack. Using this N models are used to deceide which attack it is.."
      ]
    },
    {
      "cell_type": "code",
      "metadata": {
        "id": "AOh-wZq7GoBp",
        "colab_type": "code",
        "colab": {}
      },
      "source": [
        " "
      ],
      "execution_count": 0,
      "outputs": []
    },
    {
      "cell_type": "code",
      "metadata": {
        "id": "cmDQWtzM7YZj",
        "colab_type": "code",
        "colab": {}
      },
      "source": [
        ""
      ],
      "execution_count": 0,
      "outputs": []
    },
    {
      "cell_type": "code",
      "metadata": {
        "id": "w3LJPPdJ7YYD",
        "colab_type": "code",
        "colab": {}
      },
      "source": [
        ""
      ],
      "execution_count": 0,
      "outputs": []
    },
    {
      "cell_type": "code",
      "metadata": {
        "id": "GkJm23Mv7YUZ",
        "colab_type": "code",
        "colab": {}
      },
      "source": [
        ""
      ],
      "execution_count": 0,
      "outputs": []
    },
    {
      "cell_type": "code",
      "metadata": {
        "id": "NQuGurRmuROA",
        "colab_type": "code",
        "colab": {}
      },
      "source": [
        ""
      ],
      "execution_count": 0,
      "outputs": []
    }
  ]
}