{
 "cells": [
  {
   "cell_type": "code",
   "execution_count": null,
   "metadata": {},
   "outputs": [],
   "source": [
    "import pickle4\n",
    "import pandas as pd\n",
    "import warnings\n",
    "warnings.filterwarnings(\"ignore\")"
   ]
  },
  {
   "cell_type": "code",
   "execution_count": 4,
   "metadata": {},
   "outputs": [],
   "source": [
    "import xgboost\n",
    "from sklearn.model_selection import cross_val_score\n",
    "from sklearn.model_selection import StratifiedKFold\n",
    "from sklearn.naive_bayes import GaussianNB\n",
    "from sklearn.ensemble import RandomForestClassifier, AdaBoostClassifier\n",
    "from sklearn.svm import SVC\n",
    "from sklearn.neural_network import MLPClassifier\n",
    "from sklearn.neighbors import KNeighborsClassifier\n",
    "import matplotlib.pyplot as plt\n",
    "%matplotlib inline "
   ]
  },
  {
   "cell_type": "code",
   "execution_count": 2,
   "metadata": {},
   "outputs": [],
   "source": [
    "with open(\"train.pkl\", \"rb\") as infile:\n",
    "    train_dic = pickle.load(infile)\n",
    "with open(\"train_Y.pkl\", \"rb\") as infile:\n",
    "    train_Y_dic = pickle.load(infile)"
   ]
  },
  {
   "cell_type": "code",
   "execution_count": 3,
   "metadata": {},
   "outputs": [],
   "source": [
    "dos_X = train_dic['dos']\n",
    "dos_Y = train_Y_dic['dos']\n",
    "\n",
    "probe_X = train_dic['probe']\n",
    "probe_Y = train_Y_dic['probe']\n",
    "\n",
    "R2L_X = train_dic['R2L']\n",
    "R2L_Y = train_Y_dic['R2L']\n",
    "\n",
    "U2R_X = train_dic['U2R']\n",
    "U2R_Y = train_Y_dic['U2R']"
   ]
  },
  {
   "cell_type": "code",
   "execution_count": 5,
   "metadata": {},
   "outputs": [],
   "source": [
    "def skfold(X, y, model):\n",
    "    skf = StratifiedKFold(n_splits=10)\n",
    "    skf.get_n_splits(X, y)\n",
    "    results = cross_val_score(model, X, y, cv=skf)\n",
    "    return results"
   ]
  },
  {
   "cell_type": "code",
   "execution_count": null,
   "metadata": {},
   "outputs": [],
   "source": [
    "d_xgb = skfold(dos_X, dos_Y, xgboost.XGBClassifier())\n",
    "d_gnb = skfold(dos_X, dos_Y, GaussianNB())\n",
    "d_rf = skfold(dos_X, dos_Y, RandomForestClassifier())\n",
    "d_svc = skfold(dos_X, dos_Y, SVC())\n",
    "d_ada = skfold(dos_X, dos_Y, AdaBoostClassifier())\n",
    "d_knn = skfold(dos_X, dos_Y, KNeighborsClassifier())\n",
    "d_MLPc = skfold(dos_X, dos_Y, MLPClassifier())\n",
    "d_dic = {'XGB': d_xgb, 'RandomForest': d_rf, 'SVC': d_svc,\n",
    "         'GaussianNB': d_gnb, 'adaBoost': d_ada, 'KNN': d_knn, 'MLPc': d_MLPc}\n",
    "d_dic"
   ]
  },
  {
   "cell_type": "code",
   "execution_count": null,
   "metadata": {},
   "outputs": [],
   "source": [
    "p_xgb = skfold(probe_X, probe_Y, xgboost.XGBClassifier())\n",
    "p_gnb = skfold(probe_X, probe_Y, GaussianNB())\n",
    "p_rf = skfold(probe_X, probe_Y, RandomForestClassifier())\n",
    "p_svc = skfold(probe_X, probe_Y, SVC())\n",
    "p_ada = skfold(probe_X, probe_Y, AdaBoostClassifier())\n",
    "p_knn = skfold(probe_X, probe_Y, KNeighborsClassifier())\n",
    "p_MLPc = skfold(probe_X, probe_Y, MLPClassifier())\n",
    "p_dic = {'XGB': p_xgb, 'RandomForest': p_rf, 'SVC': p_svc,\n",
    "         'GaussianNB': p_gnb, 'adaBoost': p_ada, 'KNN': p_knn, 'MLPc': p_MLPc}\n",
    "p_dic"
   ]
  },
  {
   "cell_type": "code",
   "execution_count": null,
   "metadata": {},
   "outputs": [],
   "source": [
    "r_xgb = skfold(R2L_X, R2L_Y, xgboost.XGBClassifier())\n",
    "r_gnb = skfold(R2L_X, R2L_Y, GaussianNB())\n",
    "r_rf = skfold(R2L_X, R2L_Y, RandomForestClassifier())\n",
    "r_svc = skfold(R2L_X, R2L_Y, SVC())\n",
    "r_ada = skfold(R2L_X, R2L_Y, AdaBoostClassifier())\n",
    "r_knn = skfold(R2L_X, R2L_Y, KNeighborsClassifier())\n",
    "r_MLPc = skfold(R2L_X, R2L_Y, MLPClassifier())\n",
    "r_dic = {'XGB': r_xgb, 'RandomForest': r_rf, 'SVC': r_svc,\n",
    "         'GaussianNB': r_gnb, 'adaBoost': r_ada, 'KNN': r_knn, 'MLPc': r_MLPc}\n",
    "r_dic"
   ]
  },
  {
   "cell_type": "code",
   "execution_count": null,
   "metadata": {},
   "outputs": [],
   "source": [
    "u_xgb = skfold(U2R_X, U2R_Y, xgboost.XGBClassifier())\n",
    "u_gnb = skfold(U2R_X, U2R_Y, GaussianNB())\n",
    "u_rf = skfold(U2R_X, U2R_Y, RandomForestClassifier())\n",
    "u_svc = skfold(U2R_X, U2R_Y, SVC())\n",
    "u_ada = skfold(U2R_X, U2R_Y, AdaBoostClassifier())\n",
    "u_knn = skfold(U2R_X, U2R_Y, KNeighborsClassifier())\n",
    "u_MLPc = skfold(U2R_X, U2R_Y, MLPClassifier())\n",
    "u_dic = {'XGB': u_xgb, 'RandomForest': u_rf, 'SVC': u_svc,\n",
    "         'GaussianNB': u_gnb, 'adaBoost': u_ada, 'KNN': u_knn, 'MLPc': u_MLPc}\n",
    "u_dic"
   ]
  },
  {
   "cell_type": "code",
   "execution_count": null,
   "metadata": {},
   "outputs": [],
   "source": [
    "def mod_stats(dictionary, name):\n",
    "    def print_acc(results,model):\n",
    "        print(\"Accuracy of {} is {} and std is {}\" .format(model ,results.mean()*100, results.std()*100))\n",
    "    for key ,value in dictionary.items():\n",
    "        print_acc(value, key)\n",
    "    results = pd.DataFrame(dictionary).applymap(lambda x: x*100)\n",
    "    print(resutls)\n",
    "    ax = results.plot(**{'linewidth':1.5, 'linestyle':'-.','marker':'o',\\\n",
    "                     'alpha':.6})\n",
    "    ax.legend(bbox_to_anchor=(0,1.02,1,0.2), loc=\"lower left\",\n",
    "                    mode=\"expand\", borderaxespad=0, ncol=3)\n",
    "    plt.xlabel('n-fold')\n",
    "    plt.ylabel('%accuracy')\n",
    "    plt.\n",
    "    plt.savefig(name + '_visualization/SKF.jpg',dpi=300,format='jpg')"
   ]
  },
  {
   "cell_type": "markdown",
   "metadata": {},
   "source": [
    ">DOS model"
   ]
  },
  {
   "cell_type": "code",
   "execution_count": null,
   "metadata": {},
   "outputs": [],
   "source": [
    "mod_stats(d_dic, 'dos')"
   ]
  },
  {
   "cell_type": "markdown",
   "metadata": {},
   "source": [
    ">Probe model"
   ]
  },
  {
   "cell_type": "code",
   "execution_count": null,
   "metadata": {},
   "outputs": [],
   "source": [
    "mod_stats(p_dic, 'probe')"
   ]
  },
  {
   "cell_type": "markdown",
   "metadata": {},
   "source": [
    ">R2L model"
   ]
  },
  {
   "cell_type": "code",
   "execution_count": null,
   "metadata": {},
   "outputs": [],
   "source": [
    "mod_stats(r_dic, 'r2l')"
   ]
  },
  {
   "cell_type": "markdown",
   "metadata": {},
   "source": [
    ">U2R model"
   ]
  },
  {
   "cell_type": "code",
   "execution_count": null,
   "metadata": {},
   "outputs": [],
   "source": [
    "mod_stats(u_dic, 'u2r')"
   ]
  },
  {
   "cell_type": "code",
   "execution_count": null,
   "metadata": {},
   "outputs": [],
   "source": []
  }
 ],
 "metadata": {
  "kernelspec": {
   "display_name": "Python 3",
   "language": "python",
   "name": "python3"
  },
  "language_info": {
   "codemirror_mode": {
    "name": "ipython",
    "version": 3
   },
   "file_extension": ".py",
   "mimetype": "text/x-python",
   "name": "python",
   "nbconvert_exporter": "python",
   "pygments_lexer": "ipython3",
   "version": "3.6.8"
  }
 },
 "nbformat": 4,
 "nbformat_minor": 2
}
