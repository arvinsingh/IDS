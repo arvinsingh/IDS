{
 "cells": [
  {
   "cell_type": "markdown",
   "metadata": {},
   "source": [
    "# Master"
   ]
  },
  {
   "cell_type": "markdown",
   "metadata": {},
   "source": [
    "## 0. The Dataset."
   ]
  },
  {
   "cell_type": "code",
   "execution_count": 37,
   "metadata": {},
   "outputs": [],
   "source": [
    "import numpy as np\n",
    "import pandas as pd\n",
    "import matplotlib.pyplot as plt\n",
    "import seaborn as sns\n",
    "import random\n",
    "random.seed(1)\n",
    "###################################################\n",
    "from time import time\n",
    "import pickle as pkl\n",
    "from collections import Counter\n",
    "from sklearn.model_selection import KFold, GroupKFold, StratifiedKFold, train_test_split\n",
    "import xgboost\n",
    "from sklearn.model_selection import cross_val_score\n",
    "from sklearn.model_selection import StratifiedKFold\n",
    "from sklearn.naive_bayes import GaussianNB\n",
    "from sklearn.ensemble import RandomForestClassifier, AdaBoostClassifier\n",
    "from sklearn.svm import SVC\n",
    "from sklearn.neural_network import MLPClassifier\n",
    "import xgboost as xgb\n",
    "from sklearn.neighbors import KNeighborsClassifier\n",
    "from sklearn.model_selection import RandomizedSearchCV, GridSearchCV\n",
    "from sklearn.metrics import classification_report\n",
    "from sklearn.metrics import confusion_matrix\n",
    "from sklearn.utils import shuffle\n",
    "import itertools\n",
    "from sklearn import preprocessing\n",
    "from sklearn.feature_selection import SelectPercentile, f_classif\n",
    "from sklearn.feature_selection import RFE\n",
    "from sklearn.tree import DecisionTreeClassifier\n",
    "from sklearn.utils import shuffle\n",
    "import warnings\n",
    "warnings.filterwarnings(\"ignore\")\n",
    "\n",
    "#########################################################\n",
    "\n",
    "\n",
    "sns.set_style('whitegrid')\n",
    "\n",
    "font = {'weight' : 'bold',\n",
    "        'size'   : 14}\n",
    "\n",
    "%matplotlib inline\n",
    "# SET PATH\n",
    "PATH = 'Dataset/NSL-KDD/'\n",
    "\n",
    "# Header not there, \n",
    "col_names = ['duration', 'protocol_type', 'service', 'flag', 'src_bytes', 'dst_bytes', 'land', 'wrong_fragment',\n",
    " 'urgent', 'hot', 'num_failed_logins', 'logged_in', 'num_compromised', 'root_shell', 'su_attempted', 'num_root',\n",
    " 'num_file_creations', 'num_shells', 'num_access_files', 'num_outbound_cmds', 'is_host_login', 'is_guest_login',\n",
    " 'count', 'srv_count', 'serror_rate', 'srv_serror_rate', 'rerror_rate', 'srv_rerror_rate', 'same_srv_rate', 'diff_srv_rate',\n",
    " 'srv_diff_host_rate', 'dst_host_count', 'dst_host_srv_count', 'dst_host_same_srv_rate', 'dst_host_diff_srv_rate',\n",
    " 'dst_host_same_src_port_rate', 'dst_host_srv_diff_host_rate', 'dst_host_serror_rate', 'dst_host_srv_serror_rate',\n",
    " 'dst_host_rerror_rate', 'dst_host_srv_rerror_rate', 'label', 'difficulty_level']\n"
   ]
  },
  {
   "cell_type": "markdown",
   "metadata": {},
   "source": [
    "> help func."
   ]
  },
  {
   "cell_type": "code",
   "execution_count": 30,
   "metadata": {},
   "outputs": [],
   "source": [
    "def get_details(df):\n",
    "    print('COLUMN NAME:\\t Unique Values')\n",
    "    for i in df.columns :\n",
    "        print('{} : {}'.format(i, df[i].nunique()))\n",
    "\n",
    "        value_counts = df[i].value_counts()\n",
    "        if len(value_counts)>= 5:\n",
    "            print('\\'Top 5 values\\'')\n",
    "            print(value_counts[:5])\n",
    "        else:\n",
    "            print(value_counts)\n",
    "        print('*-'*20)\n",
    "        \n",
    "\n",
    "##\n",
    "np.seterr(divide='ignore', invalid='ignore');\n",
    "selector = SelectPercentile(f_classif, percentile=10)\n",
    "\n",
    "\n",
    "def get_univariate_features(X, y, col = col_names):\n",
    "    x_ids = selector.fit_transform(X,y)\n",
    "    true = selector.get_support()\n",
    "    newcolindex_=[i for i, x in enumerate(true) if x]\n",
    "    newcolname_=list(col[i] for i in newcolindex_)\n",
    "    return newcolname_,x_ids\n",
    "\n",
    "\n",
    "## Recursive feature elimination\n",
    "\n",
    "# Use some other classifier.\n",
    "clf = DecisionTreeClassifier(random_state=0)\n",
    "rfe = RFE(estimator=clf, n_features_to_select=13, step=1)\n",
    "\n",
    "def get_rfe(rfe,X,y, col = col_names):\n",
    "    rfe.fit(X, y)\n",
    "    rfe_idx = rfe.transform(X)\n",
    "    true = rfe.support_\n",
    "    rfecolindex_ = [i for i, x in enumerate(true) if x]\n",
    "    rfecolname_ = list(col[i] for i in rfecolindex_)\n",
    "    return rfe_idx, rfecolname_\n",
    "\n",
    "# Confusion Matrix\n",
    "def plot_confusion_matrix(cm, classes,\n",
    "                          normalize=False,\n",
    "                          title='Confusion matrix',\n",
    "                          cmap=plt.cm.Blues):\n",
    "    \"\"\"\n",
    "    This function prints and plots the confusion matrix.\n",
    "    Normalization can be applied by setting `normalize=True`.\n",
    "    \"\"\"\n",
    "    if normalize:\n",
    "        cm = cm.astype('float') / cm.sum(axis=1)[:, np.newaxis]\n",
    "        print(\"Normalized confusion matrix\")\n",
    "    else:\n",
    "        print('Confusion matrix, without normalization')\n",
    "\n",
    "    print(cm)\n",
    "\n",
    "    plt.imshow(cm, interpolation='nearest', cmap=cmap)\n",
    "    plt.title(title)\n",
    "    plt.colorbar()\n",
    "    tick_marks = np.arange(len(classes))\n",
    "    plt.xticks(tick_marks, classes, rotation=45)\n",
    "    plt.yticks(tick_marks, classes)\n",
    "\n",
    "    fmt = '.2f' if normalize else 'd'\n",
    "    thresh = cm.max() / 2.\n",
    "    for i, j in itertools.product(range(cm.shape[0]), range(cm.shape[1])):\n",
    "        plt.text(j, i, format(cm[i, j], fmt),\n",
    "                 horizontalalignment=\"center\",\n",
    "                 color=\"white\" if cm[i, j] > thresh else \"black\")\n",
    "\n",
    "    plt.ylabel('True label')\n",
    "    \n",
    "    plt.xlabel('Predicted label')\n",
    "    plt.tight_layout()\n",
    "    \n",
    "# Cross Validation\n",
    "def mod_stats(dictionary, name,save_fig=False):\n",
    "    def print_acc(results,model):\n",
    "        print(\"Accuracy of {} is {} and std is {}\" .format(model ,results.mean()*100, results.std()*100))\n",
    "    for key ,value in dictionary.items():\n",
    "        print_acc(value, key)\n",
    "    results = pd.DataFrame(dictionary).applymap(lambda x: x*100)\n",
    "    print(results)\n",
    "    ax = results.plot(**{'linewidth':1.5, 'linestyle':'-.','marker':'o',\\\n",
    "                     'alpha':.6})\n",
    "    ax.legend(bbox_to_anchor=(0,1.02,1,0.2), loc=\"lower left\",\n",
    "                    mode=\"expand\", borderaxespad=0, ncol=3)\n",
    "    plt.xlabel('n-fold')\n",
    "    plt.ylabel('%accuracy')\n",
    "    if save_fig:\n",
    "        plt.savefig('validation/' + name + '_SKF.jpg',dpi=300,format='jpg')\n",
    "        \n",
    "# SKF\n",
    "def skfold(X, y, model):\n",
    "    skf = StratifiedKFold(n_splits=10)\n",
    "    skf.get_n_splits(X, y)\n",
    "    results = cross_val_score(model, X, y, cv=skf)\n",
    "    return results\n",
    "\n",
    "\n",
    "def get_test_train(d_train,d_test,cols):\n",
    "    X_train = d_train[list(cols)]\n",
    "    y_train = d_train['label']\n",
    "    \n",
    "    X_test = d_test[list(cols)]\n",
    "    y_test = d_test['label']\n",
    "    \n",
    "    scaler = preprocessing.StandardScaler().fit(X_train)\n",
    "    X_train= shuffle(scaler.transform(X_train))\n",
    "    scaler = preprocessing.StandardScaler().fit(X_test)\n",
    "    X_test = scaler.transform(X_test)\n",
    "    return X_train, y_train, X_test, y_test"
   ]
  },
  {
   "cell_type": "code",
   "execution_count": 3,
   "metadata": {},
   "outputs": [
    {
     "name": "stdout",
     "output_type": "stream",
     "text": [
      "Dimensions of the Training set: (125973, 43)\n",
      "Dimensions of the Test set: (22544, 43)\n"
     ]
    },
    {
     "data": {
      "text/html": [
       "<div>\n",
       "<style scoped>\n",
       "    .dataframe tbody tr th:only-of-type {\n",
       "        vertical-align: middle;\n",
       "    }\n",
       "\n",
       "    .dataframe tbody tr th {\n",
       "        vertical-align: top;\n",
       "    }\n",
       "\n",
       "    .dataframe thead th {\n",
       "        text-align: right;\n",
       "    }\n",
       "</style>\n",
       "<table border=\"1\" class=\"dataframe\">\n",
       "  <thead>\n",
       "    <tr style=\"text-align: right;\">\n",
       "      <th></th>\n",
       "      <th>duration</th>\n",
       "      <th>protocol_type</th>\n",
       "      <th>service</th>\n",
       "      <th>flag</th>\n",
       "      <th>src_bytes</th>\n",
       "      <th>dst_bytes</th>\n",
       "      <th>land</th>\n",
       "      <th>wrong_fragment</th>\n",
       "      <th>urgent</th>\n",
       "      <th>hot</th>\n",
       "      <th>...</th>\n",
       "      <th>dst_host_same_srv_rate</th>\n",
       "      <th>dst_host_diff_srv_rate</th>\n",
       "      <th>dst_host_same_src_port_rate</th>\n",
       "      <th>dst_host_srv_diff_host_rate</th>\n",
       "      <th>dst_host_serror_rate</th>\n",
       "      <th>dst_host_srv_serror_rate</th>\n",
       "      <th>dst_host_rerror_rate</th>\n",
       "      <th>dst_host_srv_rerror_rate</th>\n",
       "      <th>label</th>\n",
       "      <th>difficulty_level</th>\n",
       "    </tr>\n",
       "  </thead>\n",
       "  <tbody>\n",
       "    <tr>\n",
       "      <td>0</td>\n",
       "      <td>0</td>\n",
       "      <td>tcp</td>\n",
       "      <td>ftp_data</td>\n",
       "      <td>SF</td>\n",
       "      <td>491</td>\n",
       "      <td>0</td>\n",
       "      <td>0</td>\n",
       "      <td>0</td>\n",
       "      <td>0</td>\n",
       "      <td>0</td>\n",
       "      <td>...</td>\n",
       "      <td>0.17</td>\n",
       "      <td>0.03</td>\n",
       "      <td>0.17</td>\n",
       "      <td>0.00</td>\n",
       "      <td>0.00</td>\n",
       "      <td>0.00</td>\n",
       "      <td>0.05</td>\n",
       "      <td>0.00</td>\n",
       "      <td>normal</td>\n",
       "      <td>20</td>\n",
       "    </tr>\n",
       "    <tr>\n",
       "      <td>1</td>\n",
       "      <td>0</td>\n",
       "      <td>udp</td>\n",
       "      <td>other</td>\n",
       "      <td>SF</td>\n",
       "      <td>146</td>\n",
       "      <td>0</td>\n",
       "      <td>0</td>\n",
       "      <td>0</td>\n",
       "      <td>0</td>\n",
       "      <td>0</td>\n",
       "      <td>...</td>\n",
       "      <td>0.00</td>\n",
       "      <td>0.60</td>\n",
       "      <td>0.88</td>\n",
       "      <td>0.00</td>\n",
       "      <td>0.00</td>\n",
       "      <td>0.00</td>\n",
       "      <td>0.00</td>\n",
       "      <td>0.00</td>\n",
       "      <td>normal</td>\n",
       "      <td>15</td>\n",
       "    </tr>\n",
       "    <tr>\n",
       "      <td>2</td>\n",
       "      <td>0</td>\n",
       "      <td>tcp</td>\n",
       "      <td>private</td>\n",
       "      <td>S0</td>\n",
       "      <td>0</td>\n",
       "      <td>0</td>\n",
       "      <td>0</td>\n",
       "      <td>0</td>\n",
       "      <td>0</td>\n",
       "      <td>0</td>\n",
       "      <td>...</td>\n",
       "      <td>0.10</td>\n",
       "      <td>0.05</td>\n",
       "      <td>0.00</td>\n",
       "      <td>0.00</td>\n",
       "      <td>1.00</td>\n",
       "      <td>1.00</td>\n",
       "      <td>0.00</td>\n",
       "      <td>0.00</td>\n",
       "      <td>neptune</td>\n",
       "      <td>19</td>\n",
       "    </tr>\n",
       "    <tr>\n",
       "      <td>3</td>\n",
       "      <td>0</td>\n",
       "      <td>tcp</td>\n",
       "      <td>http</td>\n",
       "      <td>SF</td>\n",
       "      <td>232</td>\n",
       "      <td>8153</td>\n",
       "      <td>0</td>\n",
       "      <td>0</td>\n",
       "      <td>0</td>\n",
       "      <td>0</td>\n",
       "      <td>...</td>\n",
       "      <td>1.00</td>\n",
       "      <td>0.00</td>\n",
       "      <td>0.03</td>\n",
       "      <td>0.04</td>\n",
       "      <td>0.03</td>\n",
       "      <td>0.01</td>\n",
       "      <td>0.00</td>\n",
       "      <td>0.01</td>\n",
       "      <td>normal</td>\n",
       "      <td>21</td>\n",
       "    </tr>\n",
       "    <tr>\n",
       "      <td>4</td>\n",
       "      <td>0</td>\n",
       "      <td>tcp</td>\n",
       "      <td>http</td>\n",
       "      <td>SF</td>\n",
       "      <td>199</td>\n",
       "      <td>420</td>\n",
       "      <td>0</td>\n",
       "      <td>0</td>\n",
       "      <td>0</td>\n",
       "      <td>0</td>\n",
       "      <td>...</td>\n",
       "      <td>1.00</td>\n",
       "      <td>0.00</td>\n",
       "      <td>0.00</td>\n",
       "      <td>0.00</td>\n",
       "      <td>0.00</td>\n",
       "      <td>0.00</td>\n",
       "      <td>0.00</td>\n",
       "      <td>0.00</td>\n",
       "      <td>normal</td>\n",
       "      <td>21</td>\n",
       "    </tr>\n",
       "  </tbody>\n",
       "</table>\n",
       "<p>5 rows × 43 columns</p>\n",
       "</div>"
      ],
      "text/plain": [
       "   duration protocol_type   service flag  src_bytes  dst_bytes  land  \\\n",
       "0         0           tcp  ftp_data   SF        491          0     0   \n",
       "1         0           udp     other   SF        146          0     0   \n",
       "2         0           tcp   private   S0          0          0     0   \n",
       "3         0           tcp      http   SF        232       8153     0   \n",
       "4         0           tcp      http   SF        199        420     0   \n",
       "\n",
       "   wrong_fragment  urgent  hot  ...  dst_host_same_srv_rate  \\\n",
       "0               0       0    0  ...                    0.17   \n",
       "1               0       0    0  ...                    0.00   \n",
       "2               0       0    0  ...                    0.10   \n",
       "3               0       0    0  ...                    1.00   \n",
       "4               0       0    0  ...                    1.00   \n",
       "\n",
       "   dst_host_diff_srv_rate  dst_host_same_src_port_rate  \\\n",
       "0                    0.03                         0.17   \n",
       "1                    0.60                         0.88   \n",
       "2                    0.05                         0.00   \n",
       "3                    0.00                         0.03   \n",
       "4                    0.00                         0.00   \n",
       "\n",
       "   dst_host_srv_diff_host_rate  dst_host_serror_rate  \\\n",
       "0                         0.00                  0.00   \n",
       "1                         0.00                  0.00   \n",
       "2                         0.00                  1.00   \n",
       "3                         0.04                  0.03   \n",
       "4                         0.00                  0.00   \n",
       "\n",
       "   dst_host_srv_serror_rate  dst_host_rerror_rate  dst_host_srv_rerror_rate  \\\n",
       "0                      0.00                  0.05                      0.00   \n",
       "1                      0.00                  0.00                      0.00   \n",
       "2                      1.00                  0.00                      0.00   \n",
       "3                      0.01                  0.00                      0.01   \n",
       "4                      0.00                  0.00                      0.00   \n",
       "\n",
       "     label  difficulty_level  \n",
       "0   normal                20  \n",
       "1   normal                15  \n",
       "2  neptune                19  \n",
       "3   normal                21  \n",
       "4   normal                21  \n",
       "\n",
       "[5 rows x 43 columns]"
      ]
     },
     "execution_count": 3,
     "metadata": {},
     "output_type": "execute_result"
    }
   ],
   "source": [
    "# attach the column names to the dataset\n",
    "df = pd.read_csv(PATH+ 'KDDTrain+.txt', header=None, names = col_names)\n",
    "df_test = pd.read_csv(PATH+ 'KDDTest+.txt', header=None, names = col_names)\n",
    "\n",
    "# shape, this gives the dimensions of the dataset\n",
    "print('Dimensions of the Training set:',df.shape)\n",
    "print('Dimensions of the Test set:',df_test.shape)\n",
    "df.head()"
   ]
  },
  {
   "cell_type": "markdown",
   "metadata": {},
   "source": [
    "Though the dimensions are same but the values which are there are different. <br>\n",
    "Like in services there are some values which are only present in train dataset but not in train.<br>\n",
    "Better to take all and make 0 for those not present.\n",
    "<br>\n",
    "**Types of Attack which we are trying to detect**\n",
    "(present in label columns of dataset)\n",
    "<br>\n",
    "![Attack Categories](1.jpg \"Attack Categories\")\n",
    "![Attack Categories](2.jpg \"Attack Categories\")\n",
    "\n",
    "> Taken from two different papers! [link](http://eprints.iisc.ernet.in/26885/1/darpa.pdf) [link](http://airccse.org/journal/nsa/0512nsa08.pdf)"
   ]
  },
  {
   "cell_type": "code",
   "execution_count": 5,
   "metadata": {},
   "outputs": [],
   "source": [
    "## Uncomment and Run the line below to see detailed info.!\n",
    "#df.info()"
   ]
  },
  {
   "cell_type": "code",
   "execution_count": 4,
   "metadata": {},
   "outputs": [
    {
     "name": "stdout",
     "output_type": "stream",
     "text": [
      "TRAINING SET LABEL DISTRIBUTION --\n",
      "normal             67343\n",
      "neptune            41214\n",
      "satan               3633\n",
      "ipsweep             3599\n",
      "portsweep           2931\n",
      "smurf               2646\n",
      "nmap                1493\n",
      "back                 956\n",
      "teardrop             892\n",
      "warezclient          890\n",
      "pod                  201\n",
      "guess_passwd          53\n",
      "buffer_overflow       30\n",
      "warezmaster           20\n",
      "land                  18\n",
      "imap                  11\n",
      "rootkit               10\n",
      "loadmodule             9\n",
      "ftp_write              8\n",
      "multihop               7\n",
      "phf                    4\n",
      "perl                   3\n",
      "spy                    2\n",
      "Name: label, dtype: int64\n",
      "\n",
      "\n",
      "*.*.*.*.*.*.*.*.*.*.*.*.*.*.*.*.*.*.*.*.*.*.*.*.*.*.*.*.*.*.*.*.*.*.*.*.*.*.*.*.*.*.*.*.*.*.*.*.*.*.*.*.*.*.*.*.*.*.*.*.\n",
      "\n",
      "\n",
      "TEST SET LABEL DISTRIBUTION --\n",
      "normal             9711\n",
      "neptune            4657\n",
      "guess_passwd       1231\n",
      "mscan               996\n",
      "warezmaster         944\n",
      "apache2             737\n",
      "satan               735\n",
      "processtable        685\n",
      "smurf               665\n",
      "back                359\n",
      "snmpguess           331\n",
      "saint               319\n",
      "mailbomb            293\n",
      "snmpgetattack       178\n",
      "portsweep           157\n",
      "ipsweep             141\n",
      "httptunnel          133\n",
      "nmap                 73\n",
      "pod                  41\n",
      "buffer_overflow      20\n",
      "multihop             18\n",
      "named                17\n",
      "ps                   15\n",
      "sendmail             14\n",
      "xterm                13\n",
      "rootkit              13\n",
      "teardrop             12\n",
      "xlock                 9\n",
      "land                  7\n",
      "xsnoop                4\n",
      "ftp_write             3\n",
      "worm                  2\n",
      "sqlattack             2\n",
      "loadmodule            2\n",
      "udpstorm              2\n",
      "phf                   2\n",
      "perl                  2\n",
      "imap                  1\n",
      "Name: label, dtype: int64\n",
      "TRAIN DATA\n",
      "\n",
      "Feature 'protocol_type' has 3 categories\n",
      "Feature 'service' has 70 categories\n",
      "Feature 'flag' has 11 categories\n",
      "Feature 'label' has 23 categories\n",
      "\n",
      "TEST DATA\n",
      "\n",
      "Feature 'protocol_type' has 3 categories\n",
      "Feature 'service' has 64 categories\n",
      "Feature 'flag' has 11 categories\n",
      "Feature 'label' has 38 categories\n"
     ]
    }
   ],
   "source": [
    "print('TRAINING SET LABEL DISTRIBUTION --')\n",
    "print(df['label'].value_counts())\n",
    "print('','*.*.*.'*20,'',sep = '\\n\\n')\n",
    "# W\n",
    "print('TEST SET LABEL DISTRIBUTION --')\n",
    "print(df_test['label'].value_counts())\n",
    "\n",
    "#*****************************************************#\n",
    "#######################################################\n",
    "\n",
    "# object type can be dummified\n",
    "# This could be added then be fed to the model.\n",
    "\n",
    "print('TRAIN DATA\\n')\n",
    "for col_name in df.columns:\n",
    "    if df[col_name].dtypes == 'object' :\n",
    "        unique_cat = len(df[col_name].unique())\n",
    "        print(\"Feature '{col_name}' has {unique_cat} categories\".format(col_name=col_name, unique_cat=unique_cat))\n",
    "        \n",
    "print('\\nTEST DATA\\n')\n",
    "\n",
    "for col_name in df_test.columns:\n",
    "    if df_test[col_name].dtypes == 'object' :\n",
    "        unique_cat = len(df_test[col_name].unique())\n",
    "        print(\"Feature '{col_name}' has {unique_cat} categories\".format(col_name=col_name, unique_cat=unique_cat))"
   ]
  },
  {
   "cell_type": "markdown",
   "metadata": {},
   "source": [
    "> **Difference between test and train dataset. Missing Parameters**\n",
    "(not exactly missing)\n",
    "There are few columns which we can dumify ( like one hots encoding etc )\n",
    "We also take the look at the test dataset to see which all serives, protocol etc are there test dataset. "
   ]
  },
  {
   "cell_type": "code",
   "execution_count": 5,
   "metadata": {},
   "outputs": [
    {
     "name": "stdout",
     "output_type": "stream",
     "text": [
      "Services\n",
      "['red_i', 'http_2784', 'aol', 'harvest', 'http_8001', 'urh_i']\n",
      "[]\n",
      "Protocol Type\n",
      "[]\n",
      "[]\n",
      "Flag\n",
      "[]\n",
      "[]\n",
      "label\n",
      "['spy', 'warezclient']\n",
      "['processtable', 'xterm', 'worm', 'snmpgetattack', 'xlock', 'ps', 'sqlattack', 'xsnoop', 'apache2', 'httptunnel', 'saint', 'named', 'sendmail', 'udpstorm', 'snmpguess', 'mscan', 'mailbomb']\n"
     ]
    }
   ],
   "source": [
    "print('Services')\n",
    "print(list(set(df['service'].unique()) - set(df_test['service'].unique())))\n",
    "print(list(set(df_test['service'].unique()) - set(df['service'].unique())))\n",
    "print('Protocol Type')\n",
    "print(list(set(df['protocol_type'].unique()) - set(df_test['protocol_type'].unique())))\n",
    "print(list(set(df_test['protocol_type'].unique()) - set(df['protocol_type'].unique())))\n",
    "print('Flag')\n",
    "print(list(set(df['flag'].unique()) - set(df_test['flag'].unique())))\n",
    "print(list(set(df_test['flag'].unique()) - set(df['flag'].unique())))\n",
    "print('label')\n",
    "print(list(set(df['label'].unique()) - set(df_test['label'].unique())))\n",
    "print(list(set(df_test['label'].unique()) - set(df['label'].unique())))\n",
    "\n"
   ]
  },
  {
   "cell_type": "code",
   "execution_count": 6,
   "metadata": {},
   "outputs": [],
   "source": [
    "x = list(set(df['service'].unique()) - set(df_test['service'].unique()))\n",
    "for i in x:\n",
    "    df_test['service_'+i] = 0"
   ]
  },
  {
   "cell_type": "code",
   "execution_count": 7,
   "metadata": {},
   "outputs": [],
   "source": [
    "# ADD DUMMIES\n",
    "prot_type = pd.get_dummies(df['protocol_type'],prefix='protocol')\n",
    "service = pd.get_dummies(df['service'],prefix='service')\n",
    "flag = pd.get_dummies(df['flag'], prefix='flag')\n",
    "\n",
    "# Test dataset DUMMIES\n",
    "\n",
    "prot_type_test = pd.get_dummies(df_test['protocol_type'], prefix = 'protocol')\n",
    "service_test = pd.get_dummies(df_test['service'], prefix = 'service')\n",
    "flag_test = pd.get_dummies(df_test['flag'], prefix = 'flag')"
   ]
  },
  {
   "cell_type": "markdown",
   "metadata": {},
   "source": [
    "### **1. Making Train-able**"
   ]
  },
  {
   "cell_type": "code",
   "execution_count": 8,
   "metadata": {},
   "outputs": [
    {
     "data": {
      "text/html": [
       "<div>\n",
       "<style scoped>\n",
       "    .dataframe tbody tr th:only-of-type {\n",
       "        vertical-align: middle;\n",
       "    }\n",
       "\n",
       "    .dataframe tbody tr th {\n",
       "        vertical-align: top;\n",
       "    }\n",
       "\n",
       "    .dataframe thead th {\n",
       "        text-align: right;\n",
       "    }\n",
       "</style>\n",
       "<table border=\"1\" class=\"dataframe\">\n",
       "  <thead>\n",
       "    <tr style=\"text-align: right;\">\n",
       "      <th></th>\n",
       "      <th>duration</th>\n",
       "      <th>src_bytes</th>\n",
       "      <th>dst_bytes</th>\n",
       "      <th>land</th>\n",
       "      <th>wrong_fragment</th>\n",
       "      <th>urgent</th>\n",
       "      <th>hot</th>\n",
       "      <th>num_failed_logins</th>\n",
       "      <th>logged_in</th>\n",
       "      <th>num_compromised</th>\n",
       "      <th>...</th>\n",
       "      <th>flag_REJ</th>\n",
       "      <th>flag_RSTO</th>\n",
       "      <th>flag_RSTOS0</th>\n",
       "      <th>flag_RSTR</th>\n",
       "      <th>flag_S0</th>\n",
       "      <th>flag_S1</th>\n",
       "      <th>flag_S2</th>\n",
       "      <th>flag_S3</th>\n",
       "      <th>flag_SF</th>\n",
       "      <th>flag_SH</th>\n",
       "    </tr>\n",
       "  </thead>\n",
       "  <tbody>\n",
       "    <tr>\n",
       "      <td>0</td>\n",
       "      <td>0</td>\n",
       "      <td>0</td>\n",
       "      <td>0</td>\n",
       "      <td>0</td>\n",
       "      <td>0</td>\n",
       "      <td>0</td>\n",
       "      <td>0</td>\n",
       "      <td>0</td>\n",
       "      <td>0</td>\n",
       "      <td>0</td>\n",
       "      <td>...</td>\n",
       "      <td>1</td>\n",
       "      <td>0</td>\n",
       "      <td>0</td>\n",
       "      <td>0</td>\n",
       "      <td>0</td>\n",
       "      <td>0</td>\n",
       "      <td>0</td>\n",
       "      <td>0</td>\n",
       "      <td>0</td>\n",
       "      <td>0</td>\n",
       "    </tr>\n",
       "    <tr>\n",
       "      <td>1</td>\n",
       "      <td>0</td>\n",
       "      <td>0</td>\n",
       "      <td>0</td>\n",
       "      <td>0</td>\n",
       "      <td>0</td>\n",
       "      <td>0</td>\n",
       "      <td>0</td>\n",
       "      <td>0</td>\n",
       "      <td>0</td>\n",
       "      <td>0</td>\n",
       "      <td>...</td>\n",
       "      <td>1</td>\n",
       "      <td>0</td>\n",
       "      <td>0</td>\n",
       "      <td>0</td>\n",
       "      <td>0</td>\n",
       "      <td>0</td>\n",
       "      <td>0</td>\n",
       "      <td>0</td>\n",
       "      <td>0</td>\n",
       "      <td>0</td>\n",
       "    </tr>\n",
       "    <tr>\n",
       "      <td>2</td>\n",
       "      <td>2</td>\n",
       "      <td>12983</td>\n",
       "      <td>0</td>\n",
       "      <td>0</td>\n",
       "      <td>0</td>\n",
       "      <td>0</td>\n",
       "      <td>0</td>\n",
       "      <td>0</td>\n",
       "      <td>0</td>\n",
       "      <td>0</td>\n",
       "      <td>...</td>\n",
       "      <td>0</td>\n",
       "      <td>0</td>\n",
       "      <td>0</td>\n",
       "      <td>0</td>\n",
       "      <td>0</td>\n",
       "      <td>0</td>\n",
       "      <td>0</td>\n",
       "      <td>0</td>\n",
       "      <td>1</td>\n",
       "      <td>0</td>\n",
       "    </tr>\n",
       "    <tr>\n",
       "      <td>3</td>\n",
       "      <td>0</td>\n",
       "      <td>20</td>\n",
       "      <td>0</td>\n",
       "      <td>0</td>\n",
       "      <td>0</td>\n",
       "      <td>0</td>\n",
       "      <td>0</td>\n",
       "      <td>0</td>\n",
       "      <td>0</td>\n",
       "      <td>0</td>\n",
       "      <td>...</td>\n",
       "      <td>0</td>\n",
       "      <td>0</td>\n",
       "      <td>0</td>\n",
       "      <td>0</td>\n",
       "      <td>0</td>\n",
       "      <td>0</td>\n",
       "      <td>0</td>\n",
       "      <td>0</td>\n",
       "      <td>1</td>\n",
       "      <td>0</td>\n",
       "    </tr>\n",
       "    <tr>\n",
       "      <td>4</td>\n",
       "      <td>1</td>\n",
       "      <td>0</td>\n",
       "      <td>15</td>\n",
       "      <td>0</td>\n",
       "      <td>0</td>\n",
       "      <td>0</td>\n",
       "      <td>0</td>\n",
       "      <td>0</td>\n",
       "      <td>0</td>\n",
       "      <td>0</td>\n",
       "      <td>...</td>\n",
       "      <td>0</td>\n",
       "      <td>1</td>\n",
       "      <td>0</td>\n",
       "      <td>0</td>\n",
       "      <td>0</td>\n",
       "      <td>0</td>\n",
       "      <td>0</td>\n",
       "      <td>0</td>\n",
       "      <td>0</td>\n",
       "      <td>0</td>\n",
       "    </tr>\n",
       "  </tbody>\n",
       "</table>\n",
       "<p>5 rows × 123 columns</p>\n",
       "</div>"
      ],
      "text/plain": [
       "   duration  src_bytes  dst_bytes  land  wrong_fragment  urgent  hot  \\\n",
       "0         0          0          0     0               0       0    0   \n",
       "1         0          0          0     0               0       0    0   \n",
       "2         2      12983          0     0               0       0    0   \n",
       "3         0         20          0     0               0       0    0   \n",
       "4         1          0         15     0               0       0    0   \n",
       "\n",
       "   num_failed_logins  logged_in  num_compromised  ...  flag_REJ  flag_RSTO  \\\n",
       "0                  0          0                0  ...         1          0   \n",
       "1                  0          0                0  ...         1          0   \n",
       "2                  0          0                0  ...         0          0   \n",
       "3                  0          0                0  ...         0          0   \n",
       "4                  0          0                0  ...         0          1   \n",
       "\n",
       "   flag_RSTOS0  flag_RSTR  flag_S0  flag_S1  flag_S2  flag_S3  flag_SF  \\\n",
       "0            0          0        0        0        0        0        0   \n",
       "1            0          0        0        0        0        0        0   \n",
       "2            0          0        0        0        0        0        1   \n",
       "3            0          0        0        0        0        0        1   \n",
       "4            0          0        0        0        0        0        0   \n",
       "\n",
       "   flag_SH  \n",
       "0        0  \n",
       "1        0  \n",
       "2        0  \n",
       "3        0  \n",
       "4        0  \n",
       "\n",
       "[5 rows x 123 columns]"
      ]
     },
     "execution_count": 8,
     "metadata": {},
     "output_type": "execute_result"
    }
   ],
   "source": [
    "prot_type_test.head()\n",
    "new_df = df.drop(labels=['protocol_type', 'service','flag', 'difficulty_level'], axis = 1) # Already created dummies so no need keep it.\n",
    "new_df = pd.concat([new_df,prot_type, service, flag], axis = 1)\n",
    "## TEST DATASET\n",
    "new_df_test = df_test.drop(labels=['protocol_type', 'service','flag', 'difficulty_level'], axis = 1)\n",
    "new_df_test = pd.concat([new_df_test,prot_type_test, service_test, flag_test], axis = 1)\n",
    "new_df_test.head()"
   ]
  },
  {
   "cell_type": "markdown",
   "metadata": {},
   "source": [
    "**Sanity check**"
   ]
  },
  {
   "cell_type": "code",
   "execution_count": 9,
   "metadata": {},
   "outputs": [
    {
     "name": "stdout",
     "output_type": "stream",
     "text": [
      "Services_http\n",
      "0    0\n",
      "1    0\n",
      "2    0\n",
      "3    1\n",
      "4    1\n",
      "Name: service_http, dtype: uint8\n",
      "Protocol_tcp0    1\n",
      "1    1\n",
      "2    1\n",
      "3    0\n",
      "4    1\n",
      "Name: protocol_tcp, dtype: uint8\n"
     ]
    }
   ],
   "source": [
    "# Train dataset\n",
    "print('Services_http\\n{}\\nProtocol_tcp{}'.format(new_df['service_http'][:5], new_df_test['protocol_tcp'][:5]))\n",
    "# Test dataset\n",
    "\n"
   ]
  },
  {
   "cell_type": "code",
   "execution_count": 10,
   "metadata": {},
   "outputs": [
    {
     "data": {
      "text/html": [
       "<div>\n",
       "<style scoped>\n",
       "    .dataframe tbody tr th:only-of-type {\n",
       "        vertical-align: middle;\n",
       "    }\n",
       "\n",
       "    .dataframe tbody tr th {\n",
       "        vertical-align: top;\n",
       "    }\n",
       "\n",
       "    .dataframe thead th {\n",
       "        text-align: right;\n",
       "    }\n",
       "</style>\n",
       "<table border=\"1\" class=\"dataframe\">\n",
       "  <thead>\n",
       "    <tr style=\"text-align: right;\">\n",
       "      <th></th>\n",
       "      <th>duration</th>\n",
       "      <th>protocol_type</th>\n",
       "      <th>service</th>\n",
       "      <th>flag</th>\n",
       "      <th>src_bytes</th>\n",
       "      <th>dst_bytes</th>\n",
       "      <th>land</th>\n",
       "      <th>wrong_fragment</th>\n",
       "      <th>urgent</th>\n",
       "      <th>hot</th>\n",
       "      <th>...</th>\n",
       "      <th>dst_host_same_srv_rate</th>\n",
       "      <th>dst_host_diff_srv_rate</th>\n",
       "      <th>dst_host_same_src_port_rate</th>\n",
       "      <th>dst_host_srv_diff_host_rate</th>\n",
       "      <th>dst_host_serror_rate</th>\n",
       "      <th>dst_host_srv_serror_rate</th>\n",
       "      <th>dst_host_rerror_rate</th>\n",
       "      <th>dst_host_srv_rerror_rate</th>\n",
       "      <th>label</th>\n",
       "      <th>difficulty_level</th>\n",
       "    </tr>\n",
       "  </thead>\n",
       "  <tbody>\n",
       "    <tr>\n",
       "      <td>0</td>\n",
       "      <td>0</td>\n",
       "      <td>tcp</td>\n",
       "      <td>ftp_data</td>\n",
       "      <td>SF</td>\n",
       "      <td>491</td>\n",
       "      <td>0</td>\n",
       "      <td>0</td>\n",
       "      <td>0</td>\n",
       "      <td>0</td>\n",
       "      <td>0</td>\n",
       "      <td>...</td>\n",
       "      <td>0.17</td>\n",
       "      <td>0.03</td>\n",
       "      <td>0.17</td>\n",
       "      <td>0.00</td>\n",
       "      <td>0.00</td>\n",
       "      <td>0.00</td>\n",
       "      <td>0.05</td>\n",
       "      <td>0.00</td>\n",
       "      <td>normal</td>\n",
       "      <td>20</td>\n",
       "    </tr>\n",
       "    <tr>\n",
       "      <td>1</td>\n",
       "      <td>0</td>\n",
       "      <td>udp</td>\n",
       "      <td>other</td>\n",
       "      <td>SF</td>\n",
       "      <td>146</td>\n",
       "      <td>0</td>\n",
       "      <td>0</td>\n",
       "      <td>0</td>\n",
       "      <td>0</td>\n",
       "      <td>0</td>\n",
       "      <td>...</td>\n",
       "      <td>0.00</td>\n",
       "      <td>0.60</td>\n",
       "      <td>0.88</td>\n",
       "      <td>0.00</td>\n",
       "      <td>0.00</td>\n",
       "      <td>0.00</td>\n",
       "      <td>0.00</td>\n",
       "      <td>0.00</td>\n",
       "      <td>normal</td>\n",
       "      <td>15</td>\n",
       "    </tr>\n",
       "    <tr>\n",
       "      <td>2</td>\n",
       "      <td>0</td>\n",
       "      <td>tcp</td>\n",
       "      <td>private</td>\n",
       "      <td>S0</td>\n",
       "      <td>0</td>\n",
       "      <td>0</td>\n",
       "      <td>0</td>\n",
       "      <td>0</td>\n",
       "      <td>0</td>\n",
       "      <td>0</td>\n",
       "      <td>...</td>\n",
       "      <td>0.10</td>\n",
       "      <td>0.05</td>\n",
       "      <td>0.00</td>\n",
       "      <td>0.00</td>\n",
       "      <td>1.00</td>\n",
       "      <td>1.00</td>\n",
       "      <td>0.00</td>\n",
       "      <td>0.00</td>\n",
       "      <td>neptune</td>\n",
       "      <td>19</td>\n",
       "    </tr>\n",
       "    <tr>\n",
       "      <td>3</td>\n",
       "      <td>0</td>\n",
       "      <td>tcp</td>\n",
       "      <td>http</td>\n",
       "      <td>SF</td>\n",
       "      <td>232</td>\n",
       "      <td>8153</td>\n",
       "      <td>0</td>\n",
       "      <td>0</td>\n",
       "      <td>0</td>\n",
       "      <td>0</td>\n",
       "      <td>...</td>\n",
       "      <td>1.00</td>\n",
       "      <td>0.00</td>\n",
       "      <td>0.03</td>\n",
       "      <td>0.04</td>\n",
       "      <td>0.03</td>\n",
       "      <td>0.01</td>\n",
       "      <td>0.00</td>\n",
       "      <td>0.01</td>\n",
       "      <td>normal</td>\n",
       "      <td>21</td>\n",
       "    </tr>\n",
       "    <tr>\n",
       "      <td>4</td>\n",
       "      <td>0</td>\n",
       "      <td>tcp</td>\n",
       "      <td>http</td>\n",
       "      <td>SF</td>\n",
       "      <td>199</td>\n",
       "      <td>420</td>\n",
       "      <td>0</td>\n",
       "      <td>0</td>\n",
       "      <td>0</td>\n",
       "      <td>0</td>\n",
       "      <td>...</td>\n",
       "      <td>1.00</td>\n",
       "      <td>0.00</td>\n",
       "      <td>0.00</td>\n",
       "      <td>0.00</td>\n",
       "      <td>0.00</td>\n",
       "      <td>0.00</td>\n",
       "      <td>0.00</td>\n",
       "      <td>0.00</td>\n",
       "      <td>normal</td>\n",
       "      <td>21</td>\n",
       "    </tr>\n",
       "  </tbody>\n",
       "</table>\n",
       "<p>5 rows × 43 columns</p>\n",
       "</div>"
      ],
      "text/plain": [
       "   duration protocol_type   service flag  src_bytes  dst_bytes  land  \\\n",
       "0         0           tcp  ftp_data   SF        491          0     0   \n",
       "1         0           udp     other   SF        146          0     0   \n",
       "2         0           tcp   private   S0          0          0     0   \n",
       "3         0           tcp      http   SF        232       8153     0   \n",
       "4         0           tcp      http   SF        199        420     0   \n",
       "\n",
       "   wrong_fragment  urgent  hot  ...  dst_host_same_srv_rate  \\\n",
       "0               0       0    0  ...                    0.17   \n",
       "1               0       0    0  ...                    0.00   \n",
       "2               0       0    0  ...                    0.10   \n",
       "3               0       0    0  ...                    1.00   \n",
       "4               0       0    0  ...                    1.00   \n",
       "\n",
       "   dst_host_diff_srv_rate  dst_host_same_src_port_rate  \\\n",
       "0                    0.03                         0.17   \n",
       "1                    0.60                         0.88   \n",
       "2                    0.05                         0.00   \n",
       "3                    0.00                         0.03   \n",
       "4                    0.00                         0.00   \n",
       "\n",
       "   dst_host_srv_diff_host_rate  dst_host_serror_rate  \\\n",
       "0                         0.00                  0.00   \n",
       "1                         0.00                  0.00   \n",
       "2                         0.00                  1.00   \n",
       "3                         0.04                  0.03   \n",
       "4                         0.00                  0.00   \n",
       "\n",
       "   dst_host_srv_serror_rate  dst_host_rerror_rate  dst_host_srv_rerror_rate  \\\n",
       "0                      0.00                  0.05                      0.00   \n",
       "1                      0.00                  0.00                      0.00   \n",
       "2                      1.00                  0.00                      0.00   \n",
       "3                      0.01                  0.00                      0.01   \n",
       "4                      0.00                  0.00                      0.00   \n",
       "\n",
       "     label  difficulty_level  \n",
       "0   normal                20  \n",
       "1   normal                15  \n",
       "2  neptune                19  \n",
       "3   normal                21  \n",
       "4   normal                21  \n",
       "\n",
       "[5 rows x 43 columns]"
      ]
     },
     "execution_count": 10,
     "metadata": {},
     "output_type": "execute_result"
    }
   ],
   "source": [
    "df.head() # Original Dataset."
   ]
  },
  {
   "cell_type": "code",
   "execution_count": 11,
   "metadata": {},
   "outputs": [
    {
     "data": {
      "text/html": [
       "<div>\n",
       "<style scoped>\n",
       "    .dataframe tbody tr th:only-of-type {\n",
       "        vertical-align: middle;\n",
       "    }\n",
       "\n",
       "    .dataframe tbody tr th {\n",
       "        vertical-align: top;\n",
       "    }\n",
       "\n",
       "    .dataframe thead th {\n",
       "        text-align: right;\n",
       "    }\n",
       "</style>\n",
       "<table border=\"1\" class=\"dataframe\">\n",
       "  <thead>\n",
       "    <tr style=\"text-align: right;\">\n",
       "      <th></th>\n",
       "      <th>duration</th>\n",
       "      <th>src_bytes</th>\n",
       "      <th>dst_bytes</th>\n",
       "      <th>land</th>\n",
       "      <th>wrong_fragment</th>\n",
       "      <th>urgent</th>\n",
       "      <th>hot</th>\n",
       "      <th>num_failed_logins</th>\n",
       "      <th>logged_in</th>\n",
       "      <th>num_compromised</th>\n",
       "      <th>...</th>\n",
       "      <th>flag_REJ</th>\n",
       "      <th>flag_RSTO</th>\n",
       "      <th>flag_RSTOS0</th>\n",
       "      <th>flag_RSTR</th>\n",
       "      <th>flag_S0</th>\n",
       "      <th>flag_S1</th>\n",
       "      <th>flag_S2</th>\n",
       "      <th>flag_S3</th>\n",
       "      <th>flag_SF</th>\n",
       "      <th>flag_SH</th>\n",
       "    </tr>\n",
       "  </thead>\n",
       "  <tbody>\n",
       "    <tr>\n",
       "      <td>0</td>\n",
       "      <td>0</td>\n",
       "      <td>491</td>\n",
       "      <td>0</td>\n",
       "      <td>0</td>\n",
       "      <td>0</td>\n",
       "      <td>0</td>\n",
       "      <td>0</td>\n",
       "      <td>0</td>\n",
       "      <td>0</td>\n",
       "      <td>0</td>\n",
       "      <td>...</td>\n",
       "      <td>0</td>\n",
       "      <td>0</td>\n",
       "      <td>0</td>\n",
       "      <td>0</td>\n",
       "      <td>0</td>\n",
       "      <td>0</td>\n",
       "      <td>0</td>\n",
       "      <td>0</td>\n",
       "      <td>1</td>\n",
       "      <td>0</td>\n",
       "    </tr>\n",
       "    <tr>\n",
       "      <td>1</td>\n",
       "      <td>0</td>\n",
       "      <td>146</td>\n",
       "      <td>0</td>\n",
       "      <td>0</td>\n",
       "      <td>0</td>\n",
       "      <td>0</td>\n",
       "      <td>0</td>\n",
       "      <td>0</td>\n",
       "      <td>0</td>\n",
       "      <td>0</td>\n",
       "      <td>...</td>\n",
       "      <td>0</td>\n",
       "      <td>0</td>\n",
       "      <td>0</td>\n",
       "      <td>0</td>\n",
       "      <td>0</td>\n",
       "      <td>0</td>\n",
       "      <td>0</td>\n",
       "      <td>0</td>\n",
       "      <td>1</td>\n",
       "      <td>0</td>\n",
       "    </tr>\n",
       "    <tr>\n",
       "      <td>2</td>\n",
       "      <td>0</td>\n",
       "      <td>0</td>\n",
       "      <td>0</td>\n",
       "      <td>0</td>\n",
       "      <td>0</td>\n",
       "      <td>0</td>\n",
       "      <td>0</td>\n",
       "      <td>0</td>\n",
       "      <td>0</td>\n",
       "      <td>0</td>\n",
       "      <td>...</td>\n",
       "      <td>0</td>\n",
       "      <td>0</td>\n",
       "      <td>0</td>\n",
       "      <td>0</td>\n",
       "      <td>1</td>\n",
       "      <td>0</td>\n",
       "      <td>0</td>\n",
       "      <td>0</td>\n",
       "      <td>0</td>\n",
       "      <td>0</td>\n",
       "    </tr>\n",
       "    <tr>\n",
       "      <td>3</td>\n",
       "      <td>0</td>\n",
       "      <td>232</td>\n",
       "      <td>8153</td>\n",
       "      <td>0</td>\n",
       "      <td>0</td>\n",
       "      <td>0</td>\n",
       "      <td>0</td>\n",
       "      <td>0</td>\n",
       "      <td>1</td>\n",
       "      <td>0</td>\n",
       "      <td>...</td>\n",
       "      <td>0</td>\n",
       "      <td>0</td>\n",
       "      <td>0</td>\n",
       "      <td>0</td>\n",
       "      <td>0</td>\n",
       "      <td>0</td>\n",
       "      <td>0</td>\n",
       "      <td>0</td>\n",
       "      <td>1</td>\n",
       "      <td>0</td>\n",
       "    </tr>\n",
       "    <tr>\n",
       "      <td>4</td>\n",
       "      <td>0</td>\n",
       "      <td>199</td>\n",
       "      <td>420</td>\n",
       "      <td>0</td>\n",
       "      <td>0</td>\n",
       "      <td>0</td>\n",
       "      <td>0</td>\n",
       "      <td>0</td>\n",
       "      <td>1</td>\n",
       "      <td>0</td>\n",
       "      <td>...</td>\n",
       "      <td>0</td>\n",
       "      <td>0</td>\n",
       "      <td>0</td>\n",
       "      <td>0</td>\n",
       "      <td>0</td>\n",
       "      <td>0</td>\n",
       "      <td>0</td>\n",
       "      <td>0</td>\n",
       "      <td>1</td>\n",
       "      <td>0</td>\n",
       "    </tr>\n",
       "  </tbody>\n",
       "</table>\n",
       "<p>5 rows × 123 columns</p>\n",
       "</div>"
      ],
      "text/plain": [
       "   duration  src_bytes  dst_bytes  land  wrong_fragment  urgent  hot  \\\n",
       "0         0        491          0     0               0       0    0   \n",
       "1         0        146          0     0               0       0    0   \n",
       "2         0          0          0     0               0       0    0   \n",
       "3         0        232       8153     0               0       0    0   \n",
       "4         0        199        420     0               0       0    0   \n",
       "\n",
       "   num_failed_logins  logged_in  num_compromised  ...  flag_REJ  flag_RSTO  \\\n",
       "0                  0          0                0  ...         0          0   \n",
       "1                  0          0                0  ...         0          0   \n",
       "2                  0          0                0  ...         0          0   \n",
       "3                  0          1                0  ...         0          0   \n",
       "4                  0          1                0  ...         0          0   \n",
       "\n",
       "   flag_RSTOS0  flag_RSTR  flag_S0  flag_S1  flag_S2  flag_S3  flag_SF  \\\n",
       "0            0          0        0        0        0        0        1   \n",
       "1            0          0        0        0        0        0        1   \n",
       "2            0          0        1        0        0        0        0   \n",
       "3            0          0        0        0        0        0        1   \n",
       "4            0          0        0        0        0        0        1   \n",
       "\n",
       "   flag_SH  \n",
       "0        0  \n",
       "1        0  \n",
       "2        0  \n",
       "3        0  \n",
       "4        0  \n",
       "\n",
       "[5 rows x 123 columns]"
      ]
     },
     "execution_count": 11,
     "metadata": {},
     "output_type": "execute_result"
    }
   ],
   "source": [
    "new_df.head() # This would be used for training #(Notice we have increased feature count .. we seperated feilds and one hots them.)"
   ]
  },
  {
   "cell_type": "markdown",
   "metadata": {},
   "source": [
    "> After this we make seperate dataset for each type of attack. 4 Broad categories mentioned above. <br>\n",
    "These were saved to different files. See Git repo //"
   ]
  },
  {
   "cell_type": "code",
   "execution_count": 12,
   "metadata": {},
   "outputs": [
    {
     "name": "stdout",
     "output_type": "stream",
     "text": [
      "40\n"
     ]
    },
    {
     "data": {
      "text/plain": [
       "0    9711\n",
       "1    7460\n",
       "3    2885\n",
       "2    2421\n",
       "4      67\n",
       "Name: label, dtype: int64"
      ]
     },
     "execution_count": 12,
     "metadata": {},
     "output_type": "execute_result"
    }
   ],
   "source": [
    "# 0=normal, 1=DoS, 2=Probe, 3=R2L and 4=U2R.\n",
    "label_dict = { 'normal' : 0, 'neptune' : 1 ,'back': 1, 'land': 1, 'pod': 1, 'smurf': 1, 'teardrop': 1,'mailbomb': 1, 'apache2': 1, 'processtable': 1, 'udpstorm': 1, 'worm': 1,\n",
    " 'ipsweep' : 2,'nmap' : 2,'portsweep' : 2,'satan' : 2,'mscan' : 2,'saint' : 2,\n",
    " 'ftp_write': 3,'guess_passwd': 3,'imap': 3,'multihop': 3,'phf': 3,'spy': 3,'warezclient': 3,'warezmaster': 3,'sendmail': 3,'named': 3,'snmpgetattack': 3,'snmpguess': 3,'xlock': 3,'xsnoop': 3,'httptunnel': 3,\n",
    " 'buffer_overflow': 4,'loadmodule': 4,'perl': 4,'rootkit': 4,'ps': 4,'sqlattack': 4,'xterm': 4}\n",
    "\n",
    "print(len(label_dict))\n",
    "\n",
    "new_df_test['label'].apply(lambda x: label_dict[x]).value_counts()"
   ]
  },
  {
   "cell_type": "markdown",
   "metadata": {},
   "source": [
    "These were saved under different file names based on their attack type. \n",
    "We hoped to determine based learning algorithm for each different attack type. \n",
    "In all of those advanced algorithms Decission trees, Random Forest, XGB outperformed other so see the rest of the notebook.<br>\n",
    "**_checkpoint_1**"
   ]
  },
  {
   "cell_type": "markdown",
   "metadata": {},
   "source": [
    "## 2.Feature Selection\n"
   ]
  },
  {
   "cell_type": "code",
   "execution_count": 22,
   "metadata": {},
   "outputs": [
    {
     "name": "stdout",
     "output_type": "stream",
     "text": [
      "Dimensions of Normal: (67343, 122)\n",
      "Train:\n",
      "Dimensions of DoS: (113270, 122)\n",
      "Dimensions of Probe: (78999, 122)\n",
      "Dimensions of R2L: (68338, 122)\n",
      "Dimensions of U2R: (67395, 122)\n",
      "--.--.--.--.--.--.--.--.--.--.--.--.--.--.--.--.--.--.--.--.\n",
      "Dimensions of test Normal: (9711, 122)\n",
      "Test:\n",
      "Reset\n",
      "Dimensions of DoS: (17171, 122)\n",
      "Dimensions of Probe: (12132, 122)\n",
      "Dimensions of R2L: (12596, 122)\n",
      "Dimensions of U2R: (9778, 122)\n",
      "[1. 1. 1. 1. 1. 1. 1. 1. 1. 1. 1. 1. 1. 1. 1. 1. 0. 1. 1. 1. 1. 1. 1. 1.\n",
      " 1. 1. 1. 1. 1. 1. 1. 1. 1. 1. 1. 1. 1. 1. 1. 1. 1. 1. 1. 1. 0. 1. 1. 1.\n",
      " 1. 1. 1. 1. 1. 1. 1. 1. 1. 1. 1. 1. 1. 1. 1. 0. 1. 1. 0. 1. 0. 1. 1. 1.\n",
      " 1. 1. 1. 1. 1. 1. 1. 1. 1. 1. 1. 1. 1. 1. 0. 1. 1. 1. 1. 1. 1. 1. 1. 1.\n",
      " 1. 1. 1. 1. 1. 1. 1. 1. 1. 1. 1. 1. 1. 1. 1. 1. 1. 1. 0. 1. 1. 1. 1. 1.\n",
      " 1. 1.]\n",
      "service_eco_i \t service_eco_i Is label in col_names False\n"
     ]
    }
   ],
   "source": [
    "\n",
    "\n",
    "# Update dataframes\n",
    "\n",
    "df = pd.read_csv(PATH+'combined_df.csv')\n",
    "df_test = pd.read_csv(PATH+'combined_test_df.csv')\n",
    "nor_df = pd.read_csv(PATH+'normal_df.csv')\n",
    "##########################################################\n",
    "\n",
    "# 0=normal, 1=DoS, 2=Probe, 3=R2L and 4=U2R.\n",
    "\n",
    "normal_df = df[df['label'] == 0]\n",
    "\n",
    "dos_df = df[df['label'] == 1]\n",
    "dos_df = pd.concat([dos_df,normal_df])\n",
    "dos_df = shuffle(dos_df)\n",
    "\n",
    "probe_df = df[df['label'] == 2]\n",
    "probe_df = pd.concat([probe_df,normal_df])\n",
    "probe_df = shuffle(probe_df)\n",
    "\n",
    "r2l_df = df[df['label'] == 3]\n",
    "r2l_df = pd.concat([r2l_df,normal_df])\n",
    "r2l_df = shuffle(r2l_df)\n",
    "\n",
    "u2r_df = df[df['label'] == 4]\n",
    "u2r_df = pd.concat([u2r_df,normal_df])\n",
    "u2r_df = shuffle(u2r_df)\n",
    "\n",
    "# TEST DATASET\n",
    "\n",
    "Normal_df_test = df_test[df_test['label'] == 0]\n",
    "\n",
    "Dos_df_test = df_test[df_test['label'] == 1]\n",
    "Dos_df_test = pd.concat([Normal_df_test,Dos_df_test])\n",
    "Dos_df_test = shuffle(Dos_df_test)\n",
    "\n",
    "Probe_df_test = df_test[df_test['label'] == 2]\n",
    "Probe_df_test = pd.concat([Normal_df_test,Probe_df_test])\n",
    "Probe_df_test = shuffle(Probe_df_test)\n",
    "\n",
    "R2L_df_test = df_test[df_test['label'] == 3]\n",
    "R2L_df_test = pd.concat([Normal_df_test,R2L_df_test])\n",
    "R2L_df_test = shuffle(R2L_df_test)\n",
    "\n",
    "U2R_df_test = df_test[df_test['label'] == 4]\n",
    "U2R_df_test = pd.concat([Normal_df_test,U2R_df_test])\n",
    "U2R_df_test = shuffle(U2R_df_test)\n",
    "# Train\n",
    "X_nor = normal_df.drop('label',1)\n",
    "Y_nor = normal_df.label\n",
    "\n",
    "X_DoS = dos_df.drop('label',1)\n",
    "Y_DoS = dos_df.label\n",
    "\n",
    "X_Probe = probe_df.drop('label',1)\n",
    "Y_Probe = probe_df.label\n",
    "\n",
    "X_R2L = r2l_df.drop('label',1)\n",
    "Y_R2L = r2l_df.label\n",
    "\n",
    "X_U2R = u2r_df.drop('label',1)\n",
    "Y_U2R = u2r_df.label\n",
    "\n",
    "col_names  = X_DoS.columns\n",
    "# test set\n",
    "X_nor_test = Normal_df_test.drop('label',1)\n",
    "Y_nor_test = Normal_df_test.label\n",
    "X_DoS_test = Dos_df_test.drop('label',1)\n",
    "Y_DoS_test = Dos_df_test.label\n",
    "X_Probe_test = Probe_df_test.drop('label',1)\n",
    "Y_Probe_test = Probe_df_test.label\n",
    "X_R2L_test = R2L_df_test.drop('label',1)\n",
    "Y_R2L_test = R2L_df_test.label\n",
    "X_U2R_test = U2R_df_test.drop('label',1)\n",
    "Y_U2R_test = U2R_df_test.label\n",
    "\n",
    "## ** ##\n",
    "print('Dimensions of Normal:', X_nor.shape)\n",
    "print('Train:')\n",
    "print('Dimensions of DoS:' ,X_DoS.shape)\n",
    "print('Dimensions of Probe:' ,X_Probe.shape)\n",
    "print('Dimensions of R2L:' ,X_R2L.shape)\n",
    "print('Dimensions of U2R:' ,X_U2R.shape)\n",
    "print('--.'*20)\n",
    "print('Dimensions of test Normal:', X_nor_test.shape)\n",
    "print('Test:')\n",
    "print('Reset')\n",
    "print('Dimensions of DoS:' ,X_DoS_test.shape)\n",
    "print('Dimensions of Probe:' ,X_Probe_test.shape)\n",
    "print('Dimensions of R2L:' ,X_R2L_test.shape)\n",
    "print('Dimensions of U2R:' ,X_U2R_test.shape)\n",
    "\n",
    "## 1. Scalled versions\n",
    "scaler0 = preprocessing.StandardScaler().fit(X_nor)\n",
    "X_nor=scaler0.transform(X_nor)\n",
    "\n",
    "scaler1 = preprocessing.StandardScaler().fit(X_DoS)\n",
    "X_DoS=scaler1.transform(X_DoS) \n",
    "scaler2 = preprocessing.StandardScaler().fit(X_Probe)\n",
    "X_Probe=scaler2.transform(X_Probe) \n",
    "scaler3 = preprocessing.StandardScaler().fit(X_R2L)\n",
    "X_R2L=scaler3.transform(X_R2L) \n",
    "scaler4 = preprocessing.StandardScaler().fit(X_U2R)\n",
    "X_U2R=scaler4.transform(X_U2R) \n",
    "\n",
    "print(X_DoS.std(axis=0))\n",
    "\n",
    "## Sanity check\n",
    "print(probe_df.columns[56],'\\t',df.columns[56], 'Is label in col_names' ,'label' in col_names)\n"
   ]
  },
  {
   "cell_type": "code",
   "execution_count": 37,
   "metadata": {},
   "outputs": [
    {
     "data": {
      "text/plain": [
       "Index(['duration', 'src_bytes', 'dst_bytes', 'land', 'wrong_fragment',\n",
       "       'urgent', 'hot', 'num_failed_logins', 'logged_in', 'num_compromised',\n",
       "       ...\n",
       "       'flag_REJ', 'flag_RSTO', 'flag_RSTOS0', 'flag_RSTR', 'flag_S0',\n",
       "       'flag_S1', 'flag_S2', 'flag_S3', 'flag_SF', 'flag_SH'],\n",
       "      dtype='object', length=122)"
      ]
     },
     "execution_count": 37,
     "metadata": {},
     "output_type": "execute_result"
    }
   ],
   "source": [
    "col_names"
   ]
  },
  {
   "cell_type": "markdown",
   "metadata": {},
   "source": [
    "> Univariate Feature selection"
   ]
  },
  {
   "cell_type": "code",
   "execution_count": 43,
   "metadata": {},
   "outputs": [
    {
     "name": "stderr",
     "output_type": "stream",
     "text": [
      "/home/sourabh/anaconda3/envs/py3/lib/python3.7/site-packages/sklearn/feature_selection/univariate_selection.py:114: UserWarning: Features [ 16  44  63  66  68  86 114] are constant.\n",
      "  UserWarning)\n",
      "/home/sourabh/anaconda3/envs/py3/lib/python3.7/site-packages/sklearn/feature_selection/univariate_selection.py:114: UserWarning: Features [ 4 16] are constant.\n",
      "  UserWarning)\n",
      "/home/sourabh/anaconda3/envs/py3/lib/python3.7/site-packages/sklearn/feature_selection/univariate_selection.py:114: UserWarning: Features [  4  16  43  44  46  47  48  49  50  51  54  57  58  62  63  64  66  67\n",
      "  68  70  71  72  73  74  76  77  78  79  80  81  82  83  86  87  89  92\n",
      "  93  96  98  99 100 107 108 109 110 114] are constant.\n",
      "  UserWarning)\n",
      "/home/sourabh/anaconda3/envs/py3/lib/python3.7/site-packages/sklearn/feature_selection/univariate_selection.py:114: UserWarning: Features [  4  16  43  44  46  47  48  49  50  51  54  57  58  62  63  64  66  67\n",
      "  68  70  71  72  73  74  75  76  77  78  79  80  81  82  83  86  87  89\n",
      "  92  93  96  98  99 100 107 108 109 110 114] are constant.\n",
      "  UserWarning)\n"
     ]
    },
    {
     "name": "stdout",
     "output_type": "stream",
     "text": [
      "Features :: DoS \n",
      "--------------------------------------------------\n",
      "logged_in\n",
      "count\n",
      "serror_rate\n",
      "srv_serror_rate\n",
      "same_srv_rate\n",
      "dst_host_count\n",
      "dst_host_srv_count\n",
      "dst_host_same_srv_rate\n",
      "dst_host_serror_rate\n",
      "dst_host_srv_serror_rate\n",
      "service_http\n",
      "flag_S0\n",
      "flag_SF \n",
      "\n",
      "=*=*==*=*==*=*==*=*==*=*==*=*==*=*==*=*==*=*==*=*= \n",
      "\n",
      "Features :: Probe \n",
      "--------------------------------------------------\n",
      "logged_in\n",
      "rerror_rate\n",
      "srv_rerror_rate\n",
      "dst_host_srv_count\n",
      "dst_host_diff_srv_rate\n",
      "dst_host_same_src_port_rate\n",
      "dst_host_srv_diff_host_rate\n",
      "dst_host_rerror_rate\n",
      "dst_host_srv_rerror_rate\n",
      "protocol_icmp\n",
      "service_eco_i\n",
      "service_private\n",
      "flag_SF \n",
      "\n",
      "=*=*==*=*==*=*==*=*==*=*==*=*==*=*==*=*==*=*==*=*= \n",
      "\n",
      "Features :: R2L\n",
      "--------------------------------------------------\n",
      "src_bytes\n",
      "dst_bytes\n",
      "hot\n",
      "num_failed_logins\n",
      "is_guest_login\n",
      "dst_host_srv_count\n",
      "dst_host_same_src_port_rate\n",
      "dst_host_srv_diff_host_rate\n",
      "service_ftp\n",
      "service_ftp_data\n",
      "service_http\n",
      "service_imap4\n",
      "flag_RSTO \n",
      "\n",
      "=*=*==*=*==*=*==*=*==*=*==*=*==*=*==*=*==*=*==*=*= \n",
      "\n",
      "Features :: U2R\n",
      "--------------------------------------------------\n",
      "urgent\n",
      "hot\n",
      "root_shell\n",
      "num_file_creations\n",
      "num_shells\n",
      "srv_diff_host_rate\n",
      "dst_host_count\n",
      "dst_host_srv_count\n",
      "dst_host_same_src_port_rate\n",
      "dst_host_srv_diff_host_rate\n",
      "service_ftp_data\n",
      "service_http\n",
      "service_telnet \n",
      "\n",
      "=*=*==*=*==*=*==*=*==*=*==*=*==*=*==*=*==*=*==*=*= \n",
      "\n",
      "Features :: Normal\n",
      "--------------------------------------------------\n",
      "duration\n",
      "src_bytes\n",
      "dst_bytes\n",
      "land\n",
      "wrong_fragment\n",
      "urgent\n",
      "hot\n",
      "num_failed_logins\n",
      "logged_in\n",
      "num_compromised\n",
      "root_shell\n",
      "su_attempted \n",
      "\n",
      "=*=*==*=*==*=*==*=*==*=*==*=*==*=*==*=*==*=*==*=*= \n",
      "\n"
     ]
    }
   ],
   "source": [
    "# UFS\n",
    "Dos_uf_col_train, Dos_uf_train = get_univariate_features(X_DoS, Y_DoS)\n",
    "Probe_uf_col_train, Probe_uf_train = get_univariate_features(X_Probe, Y_Probe)\n",
    "R2L_uf_col_train, R2L_uf_train = get_univariate_features(X_R2L, Y_R2L)\n",
    "U2R_uf_col_train, U2R_uf_train = get_univariate_features(X_U2R, Y_U2R)\n",
    "Nor_uf_col_train, Nor_uf_train = get_univariate_features(X_nor, Y_nor)\n",
    "\n",
    "\n",
    "print('Features :: DoS ')\n",
    "print('-----'*10)\n",
    "print('\\n'.join(Dos_uf_col_train),'\\n')\n",
    "print('=*=*='*10,'\\n')\n",
    "      \n",
    "print('Features :: Probe ')\n",
    "print('-----'*10)\n",
    "print('\\n'.join(Probe_uf_col_train),'\\n')\n",
    "print('=*=*='*10,'\\n')\n",
    "      \n",
    "print('Features :: R2L')\n",
    "print('-----'*10)\n",
    "print('\\n'.join(R2L_uf_col_train),'\\n')\n",
    "print('=*=*='*10,'\\n')\n",
    "      \n",
    "print('Features :: U2R')\n",
    "print('-----'*10)\n",
    "print('\\n'.join(U2R_uf_col_train),'\\n')\n",
    "print('=*=*='*10,'\\n')\n",
    "      \n",
    "print('Features :: Normal')\n",
    "print('-----'*10)\n",
    "print('\\n'.join(Nor_uf_col_train),'\\n')\n",
    "print('=*=*='*10,'\\n')\n",
    "\n"
   ]
  },
  {
   "cell_type": "markdown",
   "metadata": {},
   "source": [
    "## **Recursive Feature elimination**\n",
    "Internet helped here!! https://machinelearningmastery.com/feature-selection-machine-learning-python/"
   ]
  },
  {
   "cell_type": "code",
   "execution_count": 45,
   "metadata": {},
   "outputs": [
    {
     "name": "stdout",
     "output_type": "stream",
     "text": [
      "\n",
      "DoS Features sorted by their rank:\n",
      "[(1, 'same_srv_rate'), (2, 'count'), (3, 'flag_SF'), (4, 'dst_host_serror_rate'), (5, 'dst_host_same_srv_rate'), (6, 'dst_host_srv_count'), (7, 'dst_host_count'), (8, 'logged_in'), (9, 'serror_rate'), (10, 'dst_host_srv_serror_rate'), (11, 'srv_serror_rate'), (12, 'service_http'), (13, 'flag_S0')]\n",
      "\n",
      "Probe Features sorted by their rank:\n",
      "[(1, 'dst_host_same_src_port_rate'), (2, 'dst_host_srv_count'), (3, 'dst_host_rerror_rate'), (4, 'service_private'), (5, 'logged_in'), (6, 'dst_host_diff_srv_rate'), (7, 'dst_host_srv_diff_host_rate'), (8, 'flag_SF'), (9, 'service_eco_i'), (10, 'rerror_rate'), (11, 'protocol_icmp'), (12, 'dst_host_srv_rerror_rate'), (13, 'srv_rerror_rate')]\n",
      "\n",
      "R2L Features sorted by their rank:\n",
      "[(1, 'src_bytes'), (2, 'dst_bytes'), (3, 'hot'), (4, 'dst_host_srv_diff_host_rate'), (5, 'service_ftp_data'), (6, 'dst_host_same_src_port_rate'), (7, 'dst_host_srv_count'), (8, 'num_failed_logins'), (9, 'service_imap4'), (10, 'is_guest_login'), (11, 'service_ftp'), (12, 'flag_RSTO'), (13, 'service_http')]\n",
      "\n",
      "U2R Features sorted by their rank:\n",
      "[(1, 'hot'), (2, 'dst_host_srv_count'), (3, 'dst_host_count'), (4, 'root_shell'), (5, 'num_shells'), (6, 'service_ftp_data'), (7, 'dst_host_srv_diff_host_rate'), (8, 'num_file_creations'), (9, 'dst_host_same_src_port_rate'), (10, 'service_telnet'), (11, 'srv_diff_host_rate'), (12, 'service_http'), (13, 'urgent')]\n",
      "\n",
      "Normal Features sorted by their rank:\n",
      "[(1, 'su_attempted'), (2, 'root_shell'), (3, 'num_compromised'), (4, 'logged_in'), (5, 'num_failed_logins'), (6, 'hot'), (7, 'urgent'), (8, 'wrong_fragment'), (9, 'land'), (10, 'dst_bytes'), (11, 'src_bytes'), (12, 'duration')]\n"
     ]
    }
   ],
   "source": [
    "# Based on UFS, RFE was applied on the above features. To select only the important features.\n",
    "# Next cell RFE was applied on the complete datset\n",
    "\n",
    "clf = DecisionTreeClassifier(random_state=0)\n",
    "#rank all features\n",
    "rfe = RFE(clf, n_features_to_select=1)\n",
    "\n",
    "rfe.fit(Dos_uf_train, Y_DoS)\n",
    "print (\"\\nDoS Features sorted by their rank:\")\n",
    "print (sorted(zip(map(lambda x: round(x, 4), rfe.ranking_), Dos_uf_col_train)))\n",
    "\n",
    "rfe.fit(Probe_uf_train, Y_Probe)\n",
    "print (\"\\nProbe Features sorted by their rank:\")\n",
    "print (sorted(zip(map(lambda x: round(x, 4), rfe.ranking_), Probe_uf_col_train)))\n",
    "\n",
    "rfe.fit(R2L_uf_train, Y_R2L)\n",
    "print (\"\\nR2L Features sorted by their rank:\")\n",
    "print (sorted(zip(map(lambda x: round(x, 4), rfe.ranking_), R2L_uf_col_train)))\n",
    "\n",
    "rfe.fit(U2R_uf_train, Y_U2R)\n",
    "print (\"\\nU2R Features sorted by their rank:\")\n",
    "print (sorted(zip(map(lambda x: round(x, 4), rfe.ranking_), U2R_uf_col_train)))\n",
    "\n",
    "rfe.fit(Nor_uf_train, Y_nor)\n",
    "print (\"\\nNormal Features sorted by their rank:\")\n",
    "print (sorted(zip(map(lambda x: round(x, 4), rfe.ranking_), Nor_uf_col_train)))"
   ]
  },
  {
   "cell_type": "markdown",
   "metadata": {},
   "source": [
    "> **RFE (using all 122 features)**"
   ]
  },
  {
   "cell_type": "code",
   "execution_count": 47,
   "metadata": {},
   "outputs": [
    {
     "name": "stdout",
     "output_type": "stream",
     "text": [
      "CPU times: user 1min 55s, sys: 539 ms, total: 1min 55s\n",
      "Wall time: 1min 55s\n"
     ]
    }
   ],
   "source": [
    "%%time \n",
    "# Use some other classifier.\n",
    "clf = DecisionTreeClassifier(random_state=0)\n",
    "rfe = RFE(estimator=clf, n_features_to_select=13, step=1)\n",
    "\n",
    "RFE_dos, RFE_dos_col = get_rfe(rfe, X_DoS, Y_DoS)"
   ]
  },
  {
   "cell_type": "code",
   "execution_count": 51,
   "metadata": {},
   "outputs": [
    {
     "name": "stdout",
     "output_type": "stream",
     "text": [
      "\n",
      "DOS\n",
      "['src_bytes', 'dst_bytes', 'wrong_fragment', 'num_compromised', 'same_srv_rate', 'diff_srv_rate', 'dst_host_count', 'dst_host_same_srv_rate', 'dst_host_serror_rate', 'dst_host_srv_serror_rate', 'service_ecr_i', 'flag_RSTR', 'flag_S0']\n",
      "\n",
      "PROBE\n",
      "['src_bytes', 'dst_bytes', 'rerror_rate', 'dst_host_same_srv_rate', 'dst_host_diff_srv_rate', 'dst_host_same_src_port_rate', 'dst_host_rerror_rate', 'service_finger', 'service_ftp_data', 'service_http', 'service_private', 'service_smtp', 'service_telnet']\n",
      "\n",
      "R2L\n",
      "['duration', 'src_bytes', 'dst_bytes', 'hot', 'num_failed_logins', 'num_access_files', 'dst_host_count', 'dst_host_srv_count', 'dst_host_same_srv_rate', 'dst_host_same_src_port_rate', 'dst_host_srv_diff_host_rate', 'service_ftp_data', 'service_imap4']\n",
      "\n",
      "U2R\n",
      "['duration', 'src_bytes', 'dst_bytes', 'hot', 'root_shell', 'num_file_creations', 'num_shells', 'srv_count', 'dst_host_count', 'dst_host_same_srv_rate', 'dst_host_srv_diff_host_rate', 'service_ftp_data', 'service_other']\n",
      "\n",
      "Normal\n",
      "['service_vmnet', 'service_whois', 'flag_OTH', 'flag_REJ', 'flag_RSTO', 'flag_RSTOS0', 'flag_RSTR', 'flag_S0', 'flag_S1', 'flag_S2', 'flag_S3', 'flag_SF', 'flag_SH']\n",
      "CPU times: user 3min 7s, sys: 1.88 s, total: 3min 9s\n",
      "Wall time: 3min 9s\n"
     ]
    }
   ],
   "source": [
    "%%time\n",
    "print('\\nDOS\\n{}'.format(RFE_dos_col))\n",
    "RFE_probe, RFE_probe_col = get_rfe(rfe, X_Probe, Y_Probe)\n",
    "print('\\nPROBE\\n{}'.format(RFE_probe_col))\n",
    "RFE_R2L, RFE_R2L_col = get_rfe(rfe, X_R2L, Y_R2L)\n",
    "print('\\nR2L\\n{}'.format(RFE_R2L_col))\n",
    "RFE_U2R, RFE_U2R_col = get_rfe(rfe, X_U2R, Y_U2R)\n",
    "print('\\nU2R\\n{}'.format(RFE_U2R_col))\n",
    "RFE_Nor, RFE_Nor_col = get_rfe(rfe, X_nor, Y_nor)\n",
    "print('\\nNormal\\n{}'.format(RFE_Nor_col))\n",
    "\n",
    "\n"
   ]
  },
  {
   "cell_type": "code",
   "execution_count": 58,
   "metadata": {},
   "outputs": [
    {
     "name": "stdout",
     "output_type": "stream",
     "text": [
      "Iteration 1 of 2 : 1%....20%....40%....60%....80%....100%\n",
      "Time taken 347.2361989021301 seconds\n",
      "\n",
      "Iteration 2 of 2 : 1%....20%....40%....60%....80%....100%\n",
      "Time taken 330.65852785110474 seconds\n",
      "\n"
     ]
    }
   ],
   "source": [
    "# Using Multiple classifier to determine features.\n",
    "# As reported we were not able to use more than two classifier either they took more time to resolve features or could not determine ?\n",
    "rf = RandomForestClassifier(random_state=0)\n",
    "adaa = AdaBoostClassifier(random_state=0)\n",
    "mods = [clf, rf]\n",
    "\n",
    "RFE_dos, RFE_probe, RFE_R2L, RFE_U2R, RFE_dos_col, RFE_probe_col, RFE_R2L_col, RFE_U2R_col, RFE_Nor, RFE_Nor_col = [[[]] for i in range(10)]\n",
    "\n",
    "for i, cla in enumerate(mods):\n",
    "    print(\"Iteration \" + str(i + 1) + \" of \" + str(len(mods))+ \" :\", end =\" \")\n",
    "    t0 = time()\n",
    "    rfe = RFE(estimator=cla, n_features_to_select=13, step=1)\n",
    "    print(\"1%..\", end =\"\")\n",
    "    x, y = get_rfe(rfe, X_DoS, Y_DoS)\n",
    "    RFE_dos.append(x)\n",
    "    RFE_dos_col.append(y)\n",
    "    print(\"..20%..\", end =\"\")\n",
    "    x, y = get_rfe(rfe, X_Probe, Y_Probe)\n",
    "    RFE_probe.append(x)\n",
    "    RFE_probe_col.append(y)\n",
    "    print(\"..40%..\", end=\"\")\n",
    "    x, y = get_rfe(rfe, X_R2L, Y_R2L)\n",
    "    RFE_R2L.append(x)\n",
    "    RFE_R2L_col.append(y)\n",
    "    print(\"..60%..\", end =\"\")\n",
    "    x, y = get_rfe(rfe, X_U2R, Y_U2R)\n",
    "    RFE_U2R.append(x)\n",
    "    RFE_U2R_col.append(y)\n",
    "    print(\"..80%..\", end =\"\")\n",
    "    x, y = get_rfe(rfe, X_U2R, Y_U2R)\n",
    "    RFE_Nor.append(x)\n",
    "    RFE_Nor_col.append(y)\n",
    "    print(\"..100%\",)\n",
    "    print(\"Time taken {} seconds\\n\".format(time() - t0))"
   ]
  },
  {
   "cell_type": "code",
   "execution_count": 62,
   "metadata": {},
   "outputs": [],
   "source": [
    "# Complete feature set\n",
    "dos_fet = list(set(RFE_dos_col[1]).union(set(RFE_dos_col[2]), set(Dos_uf_col_train)))\n",
    "probe_fet = list(set(RFE_probe_col[2]).union(set(RFE_probe_col[1]), set(Probe_uf_col_train)))\n",
    "R2L_fet = list(set(RFE_R2L_col[2]).union(set(RFE_R2L_col[1]), set(R2L_uf_col_train)))\n",
    "U2R_fet = list(set(RFE_U2R_col[2]).union(set(RFE_U2R_col[1]), set(U2R_uf_col_train)))\n",
    "Nor_fet = list(set(RFE_Nor_col[2]).union(set(RFE_Nor_col[1]), set(Nor_uf_col_train)))\n"
   ]
  },
  {
   "cell_type": "code",
   "execution_count": null,
   "metadata": {},
   "outputs": [],
   "source": []
  },
  {
   "cell_type": "code",
   "execution_count": 63,
   "metadata": {},
   "outputs": [
    {
     "name": "stdout",
     "output_type": "stream",
     "text": [
      "Fetures Count::\n",
      "DOS:\t20\n",
      "Probe:\t23\n",
      "R2L:\t19\n",
      "U2R:\t21\n",
      "Normal:\t23\n",
      "\n"
     ]
    }
   ],
   "source": [
    "print('Fetures Count::\\nDOS:\\t{}\\nProbe:\\t{}\\nR2L:\\t{}\\nU2R:\\t{}\\nNormal:\\t{}\\n'\\\n",
    "      .format(len(dos_fet),len(probe_fet),len(R2L_fet),len(U2R_fet),len(Nor_fet)))"
   ]
  },
  {
   "cell_type": "code",
   "execution_count": 67,
   "metadata": {},
   "outputs": [
    {
     "name": "stdout",
     "output_type": "stream",
     "text": [
      "15\n"
     ]
    }
   ],
   "source": [
    "print(len(set(probe_fet) - set(Nor_fet)))"
   ]
  },
  {
   "cell_type": "code",
   "execution_count": 68,
   "metadata": {},
   "outputs": [
    {
     "name": "stdout",
     "output_type": "stream",
     "text": [
      "Training files saved!\n",
      "Test files saved!\n"
     ]
    }
   ],
   "source": [
    "# Save Train datasets(Final)\n",
    "flt_dos_df = dos_df[dos_fet]\n",
    "flt_probe_df = probe_df[probe_fet]\n",
    "flt_R2L_df = r2l_df[R2L_fet]\n",
    "flt_U2R_df = u2r_df[U2R_fet]\n",
    "flt_Nor_df = normal_df[Nor_fet]\n",
    "\n",
    "df_dic = {'dos': flt_dos_df, 'probe': flt_probe_df, 'R2L': flt_R2L_df, 'U2R': flt_U2R_df, 'Nor': flt_Nor_df}\n",
    "\n",
    "with open(\"train.pkl\", 'wb') as f:\n",
    "    pkl.dump(df_dic, f)\n",
    "\n",
    "label_dic = {'dos': Y_DoS, 'probe': Y_Probe, 'R2L': Y_R2L, 'U2R': Y_U2R, 'Nor': Y_nor}\n",
    "with open(\"train_Y.pkl\", 'wb') as ofile:\n",
    "    pkl.dump(label_dic, ofile)\n",
    "\n",
    "print('Training files saved!')\n",
    "#save test features\n",
    "flt_dos_test_df = Dos_df_test[dos_fet]\n",
    "flt_probe_test_df = Probe_df_test[probe_fet]\n",
    "flt_R2L_test_df = R2L_df_test[R2L_fet]\n",
    "flt_U2R_test_df = U2R_df_test[U2R_fet]\n",
    "flt_Nor_test_df = Normal_df_test[Nor_fet]\n",
    "df_test_dic = {'dos': flt_dos_test_df, 'probe': flt_probe_test_df, 'R2L': flt_R2L_test_df, 'U2R': flt_U2R_test_df, 'Nor':flt_Nor_test_df}\n",
    "\n",
    "with open(\"test.pkl\", 'wb') as f:\n",
    "    pkl.dump(df_test_dic, f)\n",
    "    \n",
    "test_label_dic = {'dos': Y_DoS_test, 'probe': Y_Probe_test, 'R2L': Y_R2L_test, 'U2R': Y_U2R_test, 'Nor': Y_nor_test}\n",
    "with open(\"test_Y.pkl\", 'wb') as ofile:\n",
    "    pkl.dump(test_label_dic, ofile)\n",
    "\n",
    "print('Test files saved!')\n",
    "\n",
    "# # NOTE:: While using the dataset concatenate it with the Normal dataframe. Scale it and use it."
   ]
  },
  {
   "cell_type": "code",
   "execution_count": 69,
   "metadata": {},
   "outputs": [
    {
     "name": "stdout",
     "output_type": "stream",
     "text": [
      "Features saved!\n"
     ]
    }
   ],
   "source": [
    "#Save important features\n",
    "important_features = {'dos': dos_fet, 'probe': probe_fet, 'r2l': R2L_fet, 'u2r': U2R_fet, 'Nor': Nor_fet}\n",
    "with open(\"imp_fet.pkl\", 'wb') as ofile:\n",
    "    pkl.dump(important_features, ofile)\n",
    "print('Features saved!')"
   ]
  },
  {
   "cell_type": "markdown",
   "metadata": {},
   "source": [
    "## _checkpoint2_\n",
    "Important features determined. Their perfomance needs to be evaluated."
   ]
  },
  {
   "cell_type": "markdown",
   "metadata": {},
   "source": [
    "## _3_"
   ]
  },
  {
   "cell_type": "markdown",
   "metadata": {},
   "source": [
    "> Will update the notebook with cross validation files"
   ]
  },
  {
   "cell_type": "markdown",
   "metadata": {},
   "source": [
    ">##  Evaluation"
   ]
  },
  {
   "cell_type": "code",
   "execution_count": 4,
   "metadata": {},
   "outputs": [
    {
     "name": "stdout",
     "output_type": "stream",
     "text": [
      "1.jpg\t\t\tDataset\t\tIDS_1.ipynb  Master.ipynb  train.pkl\r\n",
      "2.jpg\t\t\tensemble.ipynb\tIDS_2.ipynb  test.pkl\t   train_Y.pkl\r\n",
      "cross_validation.ipynb\tIDS_0.ipynb\timp_fet.pkl  test_Y.pkl    validation\r\n"
     ]
    }
   ],
   "source": [
    "!ls"
   ]
  },
  {
   "cell_type": "code",
   "execution_count": 24,
   "metadata": {},
   "outputs": [],
   "source": [
    "# Load train set\n",
    "with open('train.pkl', 'rb') as infile:\n",
    "    X_train_dic = pkl.load(infile)\n",
    "with open('train_Y.pkl', 'rb') as infile_Y:\n",
    "    Y_train_dic = pkl.load(infile_Y)\n",
    "\n",
    "# Load test set\n",
    "with open('test.pkl', 'rb') as infile_test:\n",
    "    X_test_dic = pkl.load(infile_test)\n",
    "with open('test_Y.pkl', 'rb') as infile_test_Y:\n",
    "    Y_test_dic = pkl.load(infile_test_Y)"
   ]
  },
  {
   "cell_type": "markdown",
   "metadata": {},
   "source": [
    ">**Dos**"
   ]
  },
  {
   "cell_type": "code",
   "execution_count": 25,
   "metadata": {},
   "outputs": [],
   "source": [
    "dos_X = X_train_dic['dos']\n",
    "dos_Y = Y_train_dic['dos']\n",
    "test_dos_X = X_test_dic['dos']\n",
    "test_dos_Y = Y_test_dic['dos']"
   ]
  },
  {
   "cell_type": "code",
   "execution_count": 28,
   "metadata": {},
   "outputs": [
    {
     "data": {
      "text/plain": [
       "0    67343\n",
       "1    45927\n",
       "Name: label, dtype: int64"
      ]
     },
     "execution_count": 28,
     "metadata": {},
     "output_type": "execute_result"
    }
   ],
   "source": [
    "dos_Y.value_counts()"
   ]
  },
  {
   "cell_type": "code",
   "execution_count": 34,
   "metadata": {},
   "outputs": [
    {
     "name": "stdout",
     "output_type": "stream",
     "text": [
      "              precision    recall  f1-score   support\n",
      "\n",
      "           0       0.88      0.99      0.93      9711\n",
      "           1       0.99      0.83      0.90      7460\n",
      "\n",
      "    accuracy                           0.92     17171\n",
      "   macro avg       0.94      0.91      0.92     17171\n",
      "weighted avg       0.93      0.92      0.92     17171\n",
      "\n",
      "Confusion matrix, without normalization\n",
      "[[9628   83]\n",
      " [1258 6202]]\n"
     ]
    },
    {
     "data": {
      "image/png": "[encoded data removed]",
      "text/plain": [
       "<Figure size 432x288 with 2 Axes>"
      ]
     },
     "metadata": {
      "needs_background": "light"
     },
     "output_type": "display_data"
    }
   ],
   "source": [
    "forest_Dos = RandomForestClassifier(random_state=1, max_depth=15, \n",
    "                                   n_estimators=500, min_samples_split=2, \n",
    "                                   min_samples_leaf=1)\n",
    "                                   \n",
    "modelDos_1 = forest_Dos.fit(dos_X, dos_Y)\n",
    "y_pred_dos = modelDos_1.predict(test_dos_X)\n",
    "print(classification_report(test_dos_Y, y_pred_dos))\n",
    "plot_confusion_matrix(confusion_matrix(test_dos_Y, y_pred_dos),['Normal', 'DoS'])"
   ]
  },
  {
   "cell_type": "code",
   "execution_count": 39,
   "metadata": {},
   "outputs": [
    {
     "name": "stdout",
     "output_type": "stream",
     "text": [
      "              precision    recall  f1-score   support\n",
      "\n",
      "           0       0.89      0.98      0.93      9711\n",
      "           1       0.97      0.85      0.90      7460\n",
      "\n",
      "    accuracy                           0.92     17171\n",
      "   macro avg       0.93      0.91      0.92     17171\n",
      "weighted avg       0.93      0.92      0.92     17171\n",
      "\n",
      "Confusion matrix, without normalization\n",
      "[[9520  191]\n",
      " [1143 6317]]\n"
     ]
    },
    {
     "data": {
      "image/png": "[encoded data removed]",
      "text/plain": [
       "<Figure size 432x288 with 2 Axes>"
      ]
     },
     "metadata": {
      "needs_background": "light"
     },
     "output_type": "display_data"
    }
   ],
   "source": [
    "xgb_Dos = xgb.XGBClassifier(learning_rate=0.02, n_estimators=500, objective='binary:logistic',\n",
    "                                silent=True, nthread=8, random_state=1)\n",
    "modelDos_2 = xgb_Dos.fit(dos_X, dos_Y)\n",
    "y_pred_dos = modelDos_2.predict(test_dos_X)\n",
    "print(classification_report(test_dos_Y, y_pred_dos))\n",
    "plot_confusion_matrix(confusion_matrix(test_dos_Y, y_pred_dos),['Normal', 'DoS'])"
   ]
  },
  {
   "cell_type": "code",
   "execution_count": 38,
   "metadata": {},
   "outputs": [
    {
     "name": "stdout",
     "output_type": "stream",
     "text": [
      "              precision    recall  f1-score   support\n",
      "\n",
      "           0       0.87      0.98      0.92      9711\n",
      "           1       0.97      0.81      0.88      7460\n",
      "\n",
      "    accuracy                           0.90     17171\n",
      "   macro avg       0.92      0.89      0.90     17171\n",
      "weighted avg       0.91      0.90      0.90     17171\n",
      "\n",
      "Confusion matrix, without normalization\n",
      "[[9493  218]\n",
      " [1417 6043]]\n"
     ]
    },
    {
     "data": {
      "image/png": "[encoded data removed]",
      "text/plain": [
       "<Figure size 432x288 with 2 Axes>"
      ]
     },
     "metadata": {
      "needs_background": "light"
     },
     "output_type": "display_data"
    }
   ],
   "source": [
    "dtree_Dos = DecisionTreeClassifier(criterion = 'entropy', random_state=1)\n",
    "\n",
    "modelDos_3 = dtree_Dos.fit(dos_X, dos_Y)\n",
    "y_pred_dos = modelDos_3.predict(test_dos_X)\n",
    "print(classification_report(test_dos_Y, y_pred_dos))\n",
    "plot_confusion_matrix(confusion_matrix(test_dos_Y, y_pred_dos),['Normal', 'DoS'])"
   ]
  },
  {
   "cell_type": "markdown",
   "metadata": {},
   "source": [
    ">## Probe Model training"
   ]
  },
  {
   "cell_type": "code",
   "execution_count": 42,
   "metadata": {},
   "outputs": [
    {
     "name": "stdout",
     "output_type": "stream",
     "text": [
      "              precision    recall  f1-score   support\n",
      "\n",
      "           0       0.91      0.98      0.94      9711\n",
      "           2       0.86      0.60      0.71      2421\n",
      "\n",
      "    accuracy                           0.90     12132\n",
      "   macro avg       0.89      0.79      0.83     12132\n",
      "weighted avg       0.90      0.90      0.89     12132\n",
      "\n",
      "Confusion matrix, without normalization\n",
      "[[9477  234]\n",
      " [ 958 1463]]\n"
     ]
    },
    {
     "data": {
      "image/png": "[encoded data removed]",
      "text/plain": [
       "<Figure size 432x288 with 2 Axes>"
      ]
     },
     "metadata": {
      "needs_background": "light"
     },
     "output_type": "display_data"
    }
   ],
   "source": [
    "probe_X = X_train_dic['probe']\n",
    "probe_Y = Y_train_dic['probe']\n",
    "test_probe_X = X_test_dic['probe']\n",
    "test_probe_Y = Y_test_dic['probe']\n",
    "\n",
    "forest_Probe = RandomForestClassifier(random_state=1, max_depth=15, \n",
    "                                   n_estimators=500, min_samples_split=2, \n",
    "                                   min_samples_leaf=1)\n",
    "                                   \n",
    "modelProbe = forest_Probe.fit(probe_X, probe_Y)\n",
    "y_pred_probe = modelProbe.predict(test_probe_X)\n",
    "print(classification_report(test_probe_Y, y_pred_probe))\n",
    "plot_confusion_matrix(confusion_matrix(test_probe_Y, y_pred_probe),['Normal', 'Probe'])"
   ]
  },
  {
   "cell_type": "code",
   "execution_count": 43,
   "metadata": {},
   "outputs": [
    {
     "name": "stdout",
     "output_type": "stream",
     "text": [
      "              precision    recall  f1-score   support\n",
      "\n",
      "           0       0.91      0.98      0.94      9711\n",
      "           2       0.87      0.63      0.73      2421\n",
      "\n",
      "    accuracy                           0.91     12132\n",
      "   macro avg       0.89      0.80      0.84     12132\n",
      "weighted avg       0.91      0.91      0.90     12132\n",
      "\n",
      "Confusion matrix, without normalization\n",
      "[[9485  226]\n",
      " [ 889 1532]]\n"
     ]
    },
    {
     "data": {
      "image/png": "[encoded data removed]",
      "text/plain": [
       "<Figure size 432x288 with 2 Axes>"
      ]
     },
     "metadata": {
      "needs_background": "light"
     },
     "output_type": "display_data"
    }
   ],
   "source": [
    "xgb_Probe = xgb.XGBClassifier(learning_rate=0.02, n_estimators=500, objective='binary:logistic',\n",
    "                                silent=True, nthread=8, random_state=1)\n",
    "                                   \n",
    "modelProbe_2 = xgb_Probe.fit(probe_X, probe_Y)\n",
    "y_pred_probe = modelProbe_2.predict(test_probe_X)\n",
    "print(classification_report(test_probe_Y, y_pred_probe))\n",
    "plot_confusion_matrix(confusion_matrix(test_probe_Y, y_pred_probe),['Normal', 'Probe'])"
   ]
  },
  {
   "cell_type": "code",
   "execution_count": 44,
   "metadata": {},
   "outputs": [
    {
     "name": "stdout",
     "output_type": "stream",
     "text": [
      "              precision    recall  f1-score   support\n",
      "\n",
      "           0       0.92      0.97      0.95      9711\n",
      "           2       0.86      0.66      0.75      2421\n",
      "\n",
      "    accuracy                           0.91     12132\n",
      "   macro avg       0.89      0.82      0.85     12132\n",
      "weighted avg       0.91      0.91      0.91     12132\n",
      "\n",
      "Confusion matrix, without normalization\n",
      "[[9457  254]\n",
      " [ 819 1602]]\n"
     ]
    },
    {
     "data": {
      "image/png": "[encoded data removed]",
      "text/plain": [
       "<Figure size 432x288 with 2 Axes>"
      ]
     },
     "metadata": {
      "needs_background": "light"
     },
     "output_type": "display_data"
    }
   ],
   "source": [
    "dtree_Probe = DecisionTreeClassifier(criterion = 'entropy', random_state=1)\n",
    "                                   \n",
    "modelProbe_3 = dtree_Probe.fit(probe_X, probe_Y)\n",
    "y_pred_probe = modelProbe_3.predict(test_probe_X)\n",
    "print(classification_report(test_probe_Y, y_pred_probe))\n",
    "plot_confusion_matrix(confusion_matrix(test_probe_Y, y_pred_probe),['Normal', 'Probe'])"
   ]
  },
  {
   "cell_type": "markdown",
   "metadata": {},
   "source": [
    ">## R2L Model training"
   ]
  },
  {
   "cell_type": "code",
   "execution_count": 41,
   "metadata": {},
   "outputs": [
    {
     "name": "stdout",
     "output_type": "stream",
     "text": [
      "              precision    recall  f1-score   support\n",
      "\n",
      "           0       0.79      1.00      0.88      9711\n",
      "           3       1.00      0.11      0.20      2885\n",
      "\n",
      "    accuracy                           0.80     12596\n",
      "   macro avg       0.89      0.55      0.54     12596\n",
      "weighted avg       0.84      0.80      0.73     12596\n",
      "\n",
      "Confusion matrix, without normalization\n",
      "[[9710    1]\n",
      " [2568  317]]\n"
     ]
    },
    {
     "data": {
      "image/png": "[encoded data removed]",
      "text/plain": [
       "<Figure size 432x288 with 2 Axes>"
      ]
     },
     "metadata": {
      "needs_background": "light"
     },
     "output_type": "display_data"
    }
   ],
   "source": [
    "R2L_X = X_train_dic['R2L']\n",
    "R2L_Y = Y_train_dic['R2L']\n",
    "test_R2L_X = X_test_dic['R2L']\n",
    "test_R2L_Y = Y_test_dic['R2L']\n",
    "\n",
    "forest_R2L = RandomForestClassifier(random_state=1, max_depth=15, \n",
    "                                   n_estimators=500, min_samples_split=2, \n",
    "                                   min_samples_leaf=1)\n",
    "                                   \n",
    "modelR2L = forest_R2L.fit(R2L_X, R2L_Y)\n",
    "y_pred_r2l = modelR2L.predict(test_R2L_X)\n",
    "print(classification_report(test_R2L_Y, y_pred_r2l))\n",
    "plot_confusion_matrix(confusion_matrix(test_R2L_Y, y_pred_r2l),['Normal', 'R2L'])\n",
    "\n"
   ]
  },
  {
   "cell_type": "code",
   "execution_count": 46,
   "metadata": {},
   "outputs": [
    {
     "name": "stdout",
     "output_type": "stream",
     "text": [
      "              precision    recall  f1-score   support\n",
      "\n",
      "           0       0.79      1.00      0.88      9711\n",
      "           3       1.00      0.11      0.20      2885\n",
      "\n",
      "    accuracy                           0.80     12596\n",
      "   macro avg       0.90      0.56      0.54     12596\n",
      "weighted avg       0.84      0.80      0.73     12596\n",
      "\n",
      "Confusion matrix, without normalization\n",
      "[[9711    0]\n",
      " [2565  320]]\n"
     ]
    },
    {
     "data": {
      "image/png": "[encoded data removed]",
      "text/plain": [
       "<Figure size 432x288 with 2 Axes>"
      ]
     },
     "metadata": {
      "needs_background": "light"
     },
     "output_type": "display_data"
    }
   ],
   "source": [
    "xgb_R2L = xgb.XGBClassifier(learning_rate=0.02, n_estimators=500, objective='binary:logistic',\n",
    "                                silent=True, nthread=8, random_state=1)\n",
    "                                   \n",
    "modelR2L_2 = xgb_R2L.fit(R2L_X, R2L_Y)\n",
    "y_pred_r2l = modelR2L_2.predict(test_R2L_X)\n",
    "print(classification_report(test_R2L_Y, y_pred_r2l))\n",
    "plot_confusion_matrix(confusion_matrix(test_R2L_Y, y_pred_r2l),['Normal', 'R2L'])"
   ]
  },
  {
   "cell_type": "code",
   "execution_count": 47,
   "metadata": {},
   "outputs": [
    {
     "name": "stdout",
     "output_type": "stream",
     "text": [
      "              precision    recall  f1-score   support\n",
      "\n",
      "           0       0.80      1.00      0.89      9711\n",
      "           3       0.99      0.15      0.26      2885\n",
      "\n",
      "    accuracy                           0.80     12596\n",
      "   macro avg       0.89      0.57      0.57     12596\n",
      "weighted avg       0.84      0.80      0.74     12596\n",
      "\n",
      "Confusion matrix, without normalization\n",
      "[[9707    4]\n",
      " [2462  423]]\n"
     ]
    },
    {
     "data": {
      "image/png": "[encoded data removed]",
      "text/plain": [
       "<Figure size 432x288 with 2 Axes>"
      ]
     },
     "metadata": {
      "needs_background": "light"
     },
     "output_type": "display_data"
    }
   ],
   "source": [
    "dtree_R2L = DecisionTreeClassifier(criterion = 'entropy', random_state=1)                              \n",
    "modelR2L_3 = dtree_R2L.fit(R2L_X, R2L_Y)\n",
    "y_pred_r2l = modelR2L_3.predict(test_R2L_X)\n",
    "print(classification_report(test_R2L_Y, y_pred_r2l))\n",
    "plot_confusion_matrix(confusion_matrix(test_R2L_Y, y_pred_r2l),['Normal', 'R2L'])"
   ]
  },
  {
   "cell_type": "markdown",
   "metadata": {},
   "source": [
    "> ## U2R model Training"
   ]
  },
  {
   "cell_type": "code",
   "execution_count": 48,
   "metadata": {},
   "outputs": [
    {
     "name": "stdout",
     "output_type": "stream",
     "text": [
      "              precision    recall  f1-score   support\n",
      "\n",
      "           0       0.99      1.00      1.00      9711\n",
      "           4       0.89      0.12      0.21        67\n",
      "\n",
      "    accuracy                           0.99      9778\n",
      "   macro avg       0.94      0.56      0.60      9778\n",
      "weighted avg       0.99      0.99      0.99      9778\n",
      "\n",
      "Confusion matrix, without normalization\n",
      "[[9710    1]\n",
      " [  59    8]]\n"
     ]
    },
    {
     "data": {
      "image/png": "[encoded data removed]",
      "text/plain": [
       "<Figure size 432x288 with 2 Axes>"
      ]
     },
     "metadata": {
      "needs_background": "light"
     },
     "output_type": "display_data"
    }
   ],
   "source": [
    "U2R_X = X_train_dic['U2R']\n",
    "U2R_Y = Y_train_dic['U2R']\n",
    "test_U2R_X = X_test_dic['U2R']\n",
    "test_U2R_Y = Y_test_dic['U2R']\n",
    "\n",
    "xgb_u2r = xgb.XGBClassifier(learning_rate=0.02, n_estimators=500, objective='binary:logistic',\n",
    "                                silent=True, nthread=8, random_state=1)\n",
    "modelU2R = xgb_u2r.fit(U2R_X, U2R_Y)\n",
    "y_pred_u2r = modelU2R.predict(test_U2R_X)\n",
    "print(classification_report(test_U2R_Y, y_pred_u2r))\n",
    "plot_confusion_matrix(confusion_matrix(test_U2R_Y, y_pred_u2r),['Normal', 'U2R'])"
   ]
  },
  {
   "cell_type": "code",
   "execution_count": 49,
   "metadata": {},
   "outputs": [
    {
     "name": "stdout",
     "output_type": "stream",
     "text": [
      "              precision    recall  f1-score   support\n",
      "\n",
      "           0       0.99      1.00      1.00      9711\n",
      "           4       1.00      0.16      0.28        67\n",
      "\n",
      "    accuracy                           0.99      9778\n",
      "   macro avg       1.00      0.58      0.64      9778\n",
      "weighted avg       0.99      0.99      0.99      9778\n",
      "\n",
      "Confusion matrix, without normalization\n",
      "[[9711    0]\n",
      " [  56   11]]\n"
     ]
    },
    {
     "data": {
      "image/png": "[encoded data removed]",
      "text/plain": [
       "<Figure size 432x288 with 2 Axes>"
      ]
     },
     "metadata": {
      "needs_background": "light"
     },
     "output_type": "display_data"
    }
   ],
   "source": [
    "forest_u2r = RandomForestClassifier(random_state=1, max_depth=15, \n",
    "                                   n_estimators=500, min_samples_split=2, \n",
    "                                   min_samples_leaf=1)\n",
    "\n",
    "modelU2R_2 = forest_u2r.fit(U2R_X, U2R_Y)\n",
    "y_pred_u2r = modelU2R_2.predict(test_U2R_X)\n",
    "print(classification_report(test_U2R_Y, y_pred_u2r))\n",
    "plot_confusion_matrix(confusion_matrix(test_U2R_Y, y_pred_u2r),['Normal', 'U2R'])"
   ]
  },
  {
   "cell_type": "code",
   "execution_count": 50,
   "metadata": {},
   "outputs": [
    {
     "name": "stdout",
     "output_type": "stream",
     "text": [
      "              precision    recall  f1-score   support\n",
      "\n",
      "           0       1.00      1.00      1.00      9711\n",
      "           4       0.89      0.36      0.51        67\n",
      "\n",
      "    accuracy                           1.00      9778\n",
      "   macro avg       0.94      0.68      0.75      9778\n",
      "weighted avg       0.99      1.00      0.99      9778\n",
      "\n",
      "Confusion matrix, without normalization\n",
      "[[9708    3]\n",
      " [  43   24]]\n"
     ]
    },
    {
     "data": {
      "image/png": "[encoded data removed]",
      "text/plain": [
       "<Figure size 432x288 with 2 Axes>"
      ]
     },
     "metadata": {
      "needs_background": "light"
     },
     "output_type": "display_data"
    }
   ],
   "source": [
    "dtree_u2r = DecisionTreeClassifier(criterion = 'entropy', random_state=1)\n",
    "modelU2R_3 = dtree_u2r.fit(U2R_X, U2R_Y)\n",
    "y_pred_u2r = modelU2R_3.predict(test_U2R_X)\n",
    "print(classification_report(test_U2R_Y, y_pred_u2r))\n",
    "plot_confusion_matrix(confusion_matrix(test_U2R_Y, y_pred_u2r),['Normal', 'U2R'])"
   ]
  },
  {
   "cell_type": "code",
   "execution_count": null,
   "metadata": {},
   "outputs": [],
   "source": []
  }
 ],
 "metadata": {
  "kernelspec": {
   "display_name": "Python 3",
   "language": "python",
   "name": "python3"
  },
  "language_info": {
   "codemirror_mode": {
    "name": "ipython",
    "version": 3
   },
   "file_extension": ".py",
   "mimetype": "text/x-python",
   "name": "python",
   "nbconvert_exporter": "python",
   "pygments_lexer": "ipython3",
   "version": "3.7.4"
  }
 },
 "nbformat": 4,
 "nbformat_minor": 4
}
